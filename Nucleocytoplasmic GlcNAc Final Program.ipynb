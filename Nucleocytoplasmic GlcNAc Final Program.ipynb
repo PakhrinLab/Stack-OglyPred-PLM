{
 "cells": [
  {
   "cell_type": "code",
   "execution_count": 2,
   "id": "e554b7e7",
   "metadata": {},
   "outputs": [],
   "source": [
    "import os\n",
    "import pandas as pd\n",
    "import numpy as np\n",
    "import random\n",
    "import tensorflow as tf\n",
    "from sklearn.metrics import confusion_matrix, matthews_corrcoef, accuracy_score, roc_auc_score, classification_report"
   ]
  },
  {
   "cell_type": "code",
   "execution_count": 3,
   "id": "0a3be3d1",
   "metadata": {},
   "outputs": [],
   "source": [
    "def predict_stacked_model(model, inputX):\n",
    "    # prepare input data\n",
    "    X = inputX\n",
    "    # make prediction\n",
    "    return model.predict(X, verbose=0)"
   ]
  },
  {
   "cell_type": "markdown",
   "id": "50630755",
   "metadata": {},
   "source": [
    "# Ankh Nucleocytoplasmic Training Dataset"
   ]
  },
  {
   "cell_type": "code",
   "execution_count": 4,
   "id": "420f52d5",
   "metadata": {},
   "outputs": [
    {
     "name": "stdout",
     "output_type": "stream",
     "text": [
      "(238010, 1536) (238010,)\n"
     ]
    }
   ],
   "source": [
    "os.chdir(\"/homes/t326h379/Ankh_nucleocytoplasmic_dbptm_2231\")\n",
    "df_positive = pd.read_csv(\"Ankh_Feature_5724_Positive_Taining_Site_Intracellular_from_1638_Proteins.txt\",header=None)\n",
    "df_negative = pd.read_csv(\"Ankh_Feature_232286_Negative_Taining_Site_Intracellular_from_1638_Proteins.txt\",header = None)\n",
    "\n",
    "df_positive_positive = df_positive\n",
    "df_negative_negative = df_negative\n",
    "\n",
    "Header_name = [\"Position\",\"PID\",\"S_or_T\"]+[i for i in range(1,1537)]\n",
    "df_positive_positive.columns = Header_name\n",
    "df_negative_negative.columns = Header_name\n",
    "\n",
    "\n",
    "df_positive_only_feature_vector = df_positive_positive.drop([\"Position\",\"PID\",\"S_or_T\"],axis=1)\n",
    "df_positive_only_fv = np.array(df_positive_only_feature_vector)\n",
    "\n",
    "df_negative_only_feature_vector = df_negative_negative.drop([\"Position\",\"PID\",\"S_or_T\"],axis=1)\n",
    "df_negative_only_fv = np.array(df_negative_only_feature_vector)\n",
    "\n",
    "X_train_full_Ankh = np.vstack((df_positive_only_fv,df_negative_only_fv))\n",
    "\n",
    "y_train_full = [1]*df_positive_only_fv.shape[0]+[0]*df_negative_only_fv.shape[0]\n",
    "\n",
    "y_train_full_Ankh = np.array(y_train_full)\n",
    "\n",
    "print(X_train_full_Ankh.shape, y_train_full_Ankh.shape)"
   ]
  },
  {
   "cell_type": "markdown",
   "id": "583a0d3f",
   "metadata": {},
   "source": [
    "# ProtT5 Nucleocytoplasmic Training Dataset"
   ]
  },
  {
   "cell_type": "code",
   "execution_count": 5,
   "id": "9e6468b2",
   "metadata": {},
   "outputs": [
    {
     "name": "stdout",
     "output_type": "stream",
     "text": [
      "(238010, 1024) (238010,)\n"
     ]
    }
   ],
   "source": [
    "os.chdir(\"/homes/t326h379/Ankh_nucleocytoplasmic_dbptm_2231\")\n",
    "\n",
    "df_positive = pd.read_csv(\"Nucleocytoplasmic_5724_with_1638_Proteins.csv\")\n",
    "df_negative = pd.read_csv(\"Nucleocytoplasmic_232286_with_1638_Proteins.csv\")\n",
    "\n",
    "df_positive_positive = df_positive\n",
    "df_negative_negative = df_negative\n",
    "\n",
    "Header_name = [\"Unnamed: 0\",\"Position\",\"PID\",\"S_or_T\"]+[i for i in range(1,1025)]\n",
    "df_positive_positive.columns = Header_name\n",
    "df_negative_negative.columns = Header_name\n",
    "\n",
    "\n",
    "df_positive_only_feature_vector = df_positive_positive.drop([\"Unnamed: 0\",\"Position\",\"PID\",\"S_or_T\"],axis=1)\n",
    "df_positive_only_fv = np.array(df_positive_only_feature_vector)\n",
    "\n",
    "df_negative_only_feature_vector = df_negative_negative.drop([\"Unnamed: 0\",\"Position\",\"PID\",\"S_or_T\"],axis=1)\n",
    "df_negative_only_fv = np.array(df_negative_only_feature_vector)\n",
    "\n",
    "X_train_full_ProtT5 = np.vstack((df_positive_only_fv,df_negative_only_fv))\n",
    "\n",
    "y_train_full = [1]*df_positive_only_fv.shape[0]+[0]*df_negative_only_fv.shape[0]\n",
    "\n",
    "y_train_full_ProtT5 = np.array(y_train_full)\n",
    "\n",
    "print(X_train_full_ProtT5.shape,y_train_full_ProtT5.shape)"
   ]
  },
  {
   "cell_type": "markdown",
   "id": "4b76f214",
   "metadata": {},
   "source": [
    "# Ankh Nucleocytoplasmic Independent Test Dataset"
   ]
  },
  {
   "cell_type": "code",
   "execution_count": 6,
   "id": "c4a083f4",
   "metadata": {},
   "outputs": [
    {
     "name": "stdout",
     "output_type": "stream",
     "text": [
      "(28093, 1536) (28093,)\n"
     ]
    }
   ],
   "source": [
    "os.chdir(\"/homes/t326h379/Ankh_nucleocytoplasmic_dbptm_2231\")\n",
    "\n",
    "df_positive = pd.read_csv(\"Ankh_Feature_1062_Positive_Independent_Testing_Site_Intracellular_from_183_Proteins.txt\",header = None)\n",
    "df_negative = pd.read_csv(\"Ankh_Feature_27031_Negative_Independent_Testing_Site_Intracellular_from_183_Proteins.txt\",header = None)\n",
    "\n",
    "df_positive_positive = df_positive\n",
    "df_negative_negative = df_negative\n",
    "\n",
    "Header_name = [\"Position\",\"PID\",\"S_or_T\"]+[i for i in range(1,1537)]\n",
    "df_positive_positive.columns = Header_name\n",
    "df_negative_negative.columns = Header_name\n",
    "\n",
    "df_positive_only_feature_vector = df_positive_positive.drop([\"Position\",\"PID\",\"S_or_T\"],axis=1)\n",
    "df_positive_only_fv = np.array(df_positive_only_feature_vector)\n",
    "\n",
    "df_negative_only_feature_vector = df_negative_negative.drop([\"Position\",\"PID\",\"S_or_T\"],axis=1)\n",
    "df_negative_only_fv = np.array(df_negative_only_feature_vector)\n",
    "\n",
    "X_test_full = np.vstack((df_positive_only_fv,df_negative_only_fv))\n",
    "\n",
    "y_test_full = [1]*df_positive_only_fv.shape[0]+[0]*df_negative_only_fv.shape[0]\n",
    "\n",
    "y_test_full = np.array(y_test_full)\n",
    "\n",
    "X_independent_Ankh = X_test_full\n",
    "\n",
    "y_independent_Ankh = y_test_full\n",
    "\n",
    "print(X_independent_Ankh.shape, y_independent_Ankh.shape)"
   ]
  },
  {
   "cell_type": "markdown",
   "id": "28b8c9da",
   "metadata": {},
   "source": [
    "# ProtT5 Nucleocytoplasmic Independent Test Dataset"
   ]
  },
  {
   "cell_type": "code",
   "execution_count": 7,
   "id": "c3d268cc",
   "metadata": {},
   "outputs": [
    {
     "name": "stdout",
     "output_type": "stream",
     "text": [
      "(28093, 1024) (28093,)\n"
     ]
    }
   ],
   "source": [
    "os.chdir(\"/homes/t326h379/Ankh_nucleocytoplasmic_dbptm_2231\")\n",
    "\n",
    "df_positive_testing = pd.read_csv(\"Nucleocytoplasmic_Independent_testing_Positive_1062_with_183_Proteins.csv\")\n",
    "df_negative_testing = pd.read_csv(\"Nucleocytoplasmic_Independent_testing_Negative_27031_with_183_Proteins.csv\")\n",
    "\n",
    "df_positive_only_test_feature_vector = df_positive_testing.drop([\"Unnamed: 0\",\"Position\",\"PID\",\"S or T\"],axis=1)\n",
    "df_positive_only_fv_test = np.array(df_positive_only_test_feature_vector)\n",
    "\n",
    "df_negative_only_test_feature_vector = df_negative_testing.drop([\"Unnamed: 0\",\"Position\",\"PID\",\"S or T\"],axis=1)\n",
    "df_negative_only_fv_test = np.array(df_negative_only_test_feature_vector)\n",
    "\n",
    "X_test_full = np.vstack((df_positive_only_fv_test,df_negative_only_fv_test))\n",
    "y_test_full = np.array([1]*df_positive_only_fv_test.shape[0]+[0]*df_negative_only_fv_test.shape[0])\n",
    "\n",
    "X_independent_ProtT5 = X_test_full\n",
    "\n",
    "y_independent_ProtT5 = y_test_full\n",
    "\n",
    "print(X_independent_ProtT5.shape, y_independent_ProtT5.shape)"
   ]
  },
  {
   "cell_type": "markdown",
   "id": "90f048b6",
   "metadata": {},
   "source": [
    "# Use the Ankh and ProtT5 features for prediction "
   ]
  },
  {
   "cell_type": "code",
   "execution_count": 10,
   "id": "85d16d1d",
   "metadata": {},
   "outputs": [
    {
     "name": "stdout",
     "output_type": "stream",
     "text": [
      "Matthews Correlation :  0.28241943745359493\n",
      "Confusion Matrix : \n",
      " [[22320  4711]\n",
      " [  252   810]]\n",
      "Accuracy on test set:    0.8233367742854092\n",
      "Sensitivity:    0.7627118644067796 \t Specificity:    0.8257186193629537\n",
      "              precision    recall  f1-score   support\n",
      "\n",
      "           0       0.99      0.83      0.90     27031\n",
      "           1       0.15      0.76      0.25      1062\n",
      "\n",
      "    accuracy                           0.82     28093\n",
      "   macro avg       0.57      0.79      0.57     28093\n",
      "weighted avg       0.96      0.82      0.88     28093\n",
      "\n",
      "Area Under Curve:    0.7942152418848667\n"
     ]
    }
   ],
   "source": [
    "filename = \"Model_Nucleus_and_Cytoplasm_Stacked_2687032Model.h5\"\n",
    "\n",
    "stacked_model = tf.keras.models.load_model(filename)\n",
    "\n",
    "y_independent = y_independent_Ankh\n",
    "\n",
    "inputX = [X_independent_Ankh,X_independent_ProtT5]\n",
    "\n",
    "Y_pred = predict_stacked_model(stacked_model, inputX)\n",
    "\n",
    "Y_pred = (Y_pred > 0.5)\n",
    "y_pred = [np.argmax(y, axis=None, out=None) for y in Y_pred]\n",
    "y_pred = np.array(y_pred)\n",
    "\n",
    "confusion = confusion_matrix(y_independent,y_pred)\n",
    "\n",
    "print(\"Matthews Correlation : \",matthews_corrcoef(y_independent, y_pred))\n",
    "print(\"Confusion Matrix : \\n\",confusion_matrix(y_independent, y_pred))\n",
    "print(\"Accuracy on test set:   \",accuracy_score(y_independent, y_pred))\n",
    "\n",
    "cm = confusion_matrix(y_independent, y_pred)\n",
    "\n",
    "TP = cm[1][1]\n",
    "TN = cm[0][0]\n",
    "FP = cm[0][1]\n",
    "FN = cm[1][0]\n",
    "\n",
    "mcc = matthews_corrcoef(y_independent, y_pred)\n",
    "\n",
    "Sensitivity = TP/(TP+FN)\n",
    "\n",
    "Specificity = TN/(TN+FP)\n",
    "\n",
    "print(\"Sensitivity:   \",Sensitivity,\"\\t\",\"Specificity:   \",Specificity)\n",
    "\n",
    "print(classification_report(y_independent, y_pred))\n",
    "\n",
    "ANN_model_Prob_auc = roc_auc_score(y_independent, y_pred)\n",
    "\n",
    "print(\"Area Under Curve:   \",ANN_model_Prob_auc)"
   ]
  },
  {
   "cell_type": "markdown",
   "id": "cb027f20",
   "metadata": {},
   "source": [
    "# Thank You"
   ]
  }
 ],
 "metadata": {
  "kernelspec": {
   "display_name": "Python 3.10.4-TensorFlow-2.11.0 [jupyter_python]",
   "language": "python",
   "name": "sys_python_3.10.4-tensorflow-2.11.0"
  },
  "language_info": {
   "codemirror_mode": {
    "name": "ipython",
    "version": 3
   },
   "file_extension": ".py",
   "mimetype": "text/x-python",
   "name": "python",
   "nbconvert_exporter": "python",
   "pygments_lexer": "ipython3",
   "version": "3.10.4"
  }
 },
 "nbformat": 4,
 "nbformat_minor": 5
}
