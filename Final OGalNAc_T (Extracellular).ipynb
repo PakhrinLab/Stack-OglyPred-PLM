{
 "cells": [
  {
   "cell_type": "code",
   "execution_count": 3,
   "id": "80789ea4",
   "metadata": {},
   "outputs": [],
   "source": [
    "import os\n",
    "import pandas as pd\n",
    "import numpy as np\n",
    "import random\n",
    "import tensorflow as tf\n",
    "from sklearn.metrics import confusion_matrix, matthews_corrcoef, accuracy_score, roc_auc_score, classification_report"
   ]
  },
  {
   "cell_type": "code",
   "execution_count": 2,
   "id": "f12406e1",
   "metadata": {},
   "outputs": [],
   "source": [
    "def predict_stacked_model(model, inputX):\n",
    "    # prepare input data\n",
    "    X = inputX\n",
    "    # make prediction\n",
    "    return model.predict(X, verbose=0)"
   ]
  },
  {
   "cell_type": "markdown",
   "id": "6332f503",
   "metadata": {},
   "source": [
    "# ProtT5 OGalNAc_T Extracellular"
   ]
  },
  {
   "cell_type": "code",
   "execution_count": 4,
   "id": "741a8791",
   "metadata": {},
   "outputs": [
    {
     "name": "stdout",
     "output_type": "stream",
     "text": [
      "135 15\n",
      "(17412, 1024) (17412,)\n",
      "(1466, 1024) (1466,)\n"
     ]
    }
   ],
   "source": [
    "os.chdir('/homes/t326h379/Ieva_GalNAc_T/')\n",
    "\n",
    "df_positive = pd.read_csv(\"Ieva_OGalNAc_TProtT5_Positive_676_less_Features.txt\",header = None)\n",
    "df_negative = pd.read_csv('Ieva_OGalNAc_TProtT5_Negative_18392_less_Features.txt',header = None)\n",
    "\n",
    "Header = [\"Position\",\"PID\",\"S_or_T\"]+[int(i) for i in range(1,1025)]\n",
    "\n",
    "df_positive.columns = Header\n",
    "df_negative.columns = Header\n",
    "\n",
    "training_proteins = []\n",
    "testing_proteins = []\n",
    "\n",
    "\n",
    "training_protein_file_name = \"One_Thirty_five_training_protein\"+str(74828)+\".txt\"    \n",
    "fc = open(training_protein_file_name)    \n",
    "for line in fc:\n",
    "    training_proteins.append(line.strip(\"\\n\"))    \n",
    "fc.close()\n",
    "\n",
    "testing_protein_file_name = \"Fifteen_Testing_protein\"+str(74828)+\".txt\"    \n",
    "fs = open(testing_protein_file_name)    \n",
    "for line in fs:\n",
    "    testing_proteins.append(line.strip(\"\\n\"))\n",
    "fs.close()\n",
    "\n",
    "print(len(training_proteins),len(testing_proteins))\n",
    "\n",
    "# Training Protein and Site Selection\n",
    "\n",
    "df_positive_training = df_positive[df_positive['PID'].isin(training_proteins)]\n",
    "df_negative_training = df_negative[df_negative['PID'].isin(training_proteins)]\n",
    "\n",
    "\n",
    "df_positive_only_train_feature_vector = np.array(df_positive_training.drop([\"Position\",\"PID\",\"S_or_T\"],axis=1))\n",
    "df_negative_only_train_feature_vector = np.array(df_negative_training.drop([\"Position\",\"PID\",\"S_or_T\"],axis=1))\n",
    "\n",
    "\n",
    "X_train_full_ProtT5 = np.vstack((df_positive_only_train_feature_vector,df_negative_only_train_feature_vector))\n",
    "y_train_full_ProtT5 = np.array([1]*df_positive_only_train_feature_vector.shape[0]+[0]*df_negative_only_train_feature_vector.shape[0])\n",
    "\n",
    "print(X_train_full_ProtT5.shape, y_train_full_ProtT5.shape)\n",
    "\n",
    "# Testing Protein and Site Selection\n",
    "\n",
    "df_positive_testing = df_positive[df_positive['PID'].isin(testing_proteins)]\n",
    "df_negative_testing = df_negative[df_negative['PID'].isin(testing_proteins)]\n",
    "\n",
    "df_positive_only_test_feature_vector = np.array(df_positive_testing.drop([\"Position\",\"PID\",\"S_or_T\"],axis=1))\n",
    "df_negative_only_test_feature_vector = np.array(df_negative_testing.drop([\"Position\",\"PID\",\"S_or_T\"],axis=1))\n",
    "\n",
    "X_independent_ProtT5 = np.vstack((df_positive_only_test_feature_vector,df_negative_only_test_feature_vector))\n",
    "y_independent_ProtT5 = np.array([1]*df_positive_only_test_feature_vector.shape[0]+[0]*df_negative_only_test_feature_vector.shape[0])\n",
    "\n",
    "print(X_independent_ProtT5.shape, y_independent_ProtT5.shape)"
   ]
  },
  {
   "cell_type": "markdown",
   "id": "257688cd",
   "metadata": {},
   "source": [
    "# Ankh OGalNAc_T Extracellular"
   ]
  },
  {
   "cell_type": "code",
   "execution_count": 5,
   "id": "acf86356",
   "metadata": {},
   "outputs": [
    {
     "name": "stdout",
     "output_type": "stream",
     "text": [
      "135 15\n",
      "(17412, 1536) (17412,)\n",
      "(1466, 1536) (1466,)\n",
      "(17412, 1536) (1466, 1536) (17412,) (1466,)\n"
     ]
    }
   ],
   "source": [
    "os.chdir('/homes/t326h379/Ieva_GalNAc_T/Ankh/')\n",
    "\n",
    "df_negative = pd.read_csv('Ankh_Feature_Negative_OGalNAc_T_fasta_sites_18392.txt',header = None)\n",
    "\n",
    "df_positive = pd.read_csv(\"Ankh_Feature_Positive_OGalNAc_T_sites_676_or_less.txt\",header = None)\n",
    "\n",
    "Header = [\"Position\",\"PID\",\"S_or_T\"]+[int(i) for i in range(1,1537)]\n",
    "\n",
    "df_positive.columns = Header\n",
    "df_negative.columns = Header\n",
    "\n",
    "import random\n",
    "\n",
    "training_proteins = []\n",
    "testing_proteins = []\n",
    "\n",
    "training_protein_file_name = \"One_Thirty_five_training_protein\"+str(74828)+\".txt\"    \n",
    "fc = open(training_protein_file_name)    \n",
    "for line in fc:\n",
    "    training_proteins.append(line.strip(\"\\n\"))    \n",
    "fc.close()\n",
    "\n",
    "testing_protein_file_name = \"Fifteen_Testing_protein\"+str(74828)+\".txt\"    \n",
    "fs = open(testing_protein_file_name)    \n",
    "for line in fs:\n",
    "    testing_proteins.append(line.strip(\"\\n\"))\n",
    "fs.close()\n",
    "\n",
    "print(len(training_proteins),len(testing_proteins))\n",
    "\n",
    "# Training Protein and Site Selection\n",
    "\n",
    "df_positive_training = df_positive[df_positive['PID'].isin(training_proteins)]\n",
    "df_negative_training = df_negative[df_negative['PID'].isin(training_proteins)]\n",
    "\n",
    "\n",
    "df_positive_only_train_feature_vector = np.array(df_positive_training.drop([\"Position\",\"PID\",\"S_or_T\"],axis=1))\n",
    "df_negative_only_train_feature_vector = np.array(df_negative_training.drop([\"Position\",\"PID\",\"S_or_T\"],axis=1))\n",
    "\n",
    "\n",
    "X_train_full_Ankh = np.vstack((df_positive_only_train_feature_vector,df_negative_only_train_feature_vector))\n",
    "y_train_full_Ankh = np.array([1]*df_positive_only_train_feature_vector.shape[0]+[0]*df_negative_only_train_feature_vector.shape[0])\n",
    "\n",
    "print(X_train_full_Ankh.shape, y_train_full_Ankh.shape)\n",
    "\n",
    "# Testing Protein and Site Selection\n",
    "\n",
    "df_positive_testing = df_positive[df_positive['PID'].isin(testing_proteins)]\n",
    "df_negative_testing = df_negative[df_negative['PID'].isin(testing_proteins)]\n",
    "\n",
    "df_positive_only_test_feature_vector = np.array(df_positive_testing.drop([\"Position\",\"PID\",\"S_or_T\"],axis=1))\n",
    "df_negative_only_test_feature_vector = np.array(df_negative_testing.drop([\"Position\",\"PID\",\"S_or_T\"],axis=1))\n",
    "\n",
    "X_independent_Ankh = np.vstack((df_positive_only_test_feature_vector,df_negative_only_test_feature_vector))\n",
    "y_independent_Ankh = np.array([1]*df_positive_only_test_feature_vector.shape[0]+[0]*df_negative_only_test_feature_vector.shape[0])\n",
    "\n",
    "print(X_independent_Ankh.shape, y_independent_Ankh.shape)\n",
    "\n",
    "print(X_train_full_Ankh.shape, X_independent_Ankh.shape, y_train_full_Ankh.shape, y_independent_Ankh.shape)"
   ]
  },
  {
   "cell_type": "markdown",
   "id": "aedf1cc3",
   "metadata": {},
   "source": [
    "# Use the Ankh and ProtT5 features for prediction"
   ]
  },
  {
   "cell_type": "code",
   "execution_count": 6,
   "id": "5f644c7b",
   "metadata": {},
   "outputs": [
    {
     "name": "stdout",
     "output_type": "stream",
     "text": [
      "Subash_taken_advice_from_IevaExtracellular_OGalNAc_T_Ieva_Stacked_2393728Model.h5\n",
      "Matthews Correlation :  0.48673614425235806\n",
      "Confusion Matrix : \n",
      " [[1228  154]\n",
      " [  11   73]]\n",
      "Accuracy on test set:    0.8874488403819918\n",
      "Sensitivity:    0.8690476190476191 \t Specificity:    0.8885672937771346\n",
      "              precision    recall  f1-score   support\n",
      "\n",
      "           0       0.99      0.89      0.94      1382\n",
      "           1       0.32      0.87      0.47        84\n",
      "\n",
      "    accuracy                           0.89      1466\n",
      "   macro avg       0.66      0.88      0.70      1466\n",
      "weighted avg       0.95      0.89      0.91      1466\n",
      "\n",
      "Area Under Curve:    0.8788074564123769\n"
     ]
    }
   ],
   "source": [
    "filename = \"Subash_taken_advice_from_IevaExtracellular_OGalNAc_T_Ieva_Stacked_2393728Model.h5\"\n",
    "\n",
    "print(filename)\n",
    "\n",
    "stacked_model = tf.keras.models.load_model(filename)\n",
    "\n",
    "inputX = [X_independent_Ankh,X_independent_ProtT5]\n",
    "Y_pred = predict_stacked_model(stacked_model, inputX)\n",
    "\n",
    "Y_pred = (Y_pred > 0.5)\n",
    "y_pred = [np.argmax(y, axis=None, out=None) for y in Y_pred]\n",
    "y_pred = np.array(y_pred)\n",
    "y_independent = y_independent_Ankh\n",
    "confusion = confusion_matrix(y_independent,y_pred)\n",
    "\n",
    "print(\"Matthews Correlation : \",matthews_corrcoef(y_independent, y_pred))\n",
    "print(\"Confusion Matrix : \\n\",confusion_matrix(y_independent, y_pred))\n",
    "print(\"Accuracy on test set:   \",accuracy_score(y_independent, y_pred))\n",
    "\n",
    "cm = confusion_matrix(y_independent, y_pred)\n",
    "\n",
    "TP = cm[1][1]\n",
    "TN = cm[0][0]\n",
    "FP = cm[0][1]\n",
    "FN = cm[1][0]\n",
    "\n",
    "mcc = matthews_corrcoef(y_independent, y_pred)\n",
    "\n",
    "Sensitivity = TP/(TP+FN)\n",
    "\n",
    "Specificity = TN/(TN+FP)\n",
    "\n",
    "print(\"Sensitivity:   \",Sensitivity,\"\\t\",\"Specificity:   \",Specificity)\n",
    "\n",
    "print(classification_report(y_independent, y_pred))\n",
    "\n",
    "ANN_model_Prob_auc = roc_auc_score(y_independent, y_pred)\n",
    "\n",
    "print(\"Area Under Curve:   \",ANN_model_Prob_auc)"
   ]
  },
  {
   "cell_type": "code",
   "execution_count": null,
   "id": "bb9ed695",
   "metadata": {},
   "outputs": [],
   "source": []
  }
 ],
 "metadata": {
  "kernelspec": {
   "display_name": "Python 3.10.4-TensorFlow-2.11.0 [jupyter_python]",
   "language": "python",
   "name": "sys_python_3.10.4-tensorflow-2.11.0"
  },
  "language_info": {
   "codemirror_mode": {
    "name": "ipython",
    "version": 3
   },
   "file_extension": ".py",
   "mimetype": "text/x-python",
   "name": "python",
   "nbconvert_exporter": "python",
   "pygments_lexer": "ipython3",
   "version": "3.10.4"
  }
 },
 "nbformat": 4,
 "nbformat_minor": 5
}
