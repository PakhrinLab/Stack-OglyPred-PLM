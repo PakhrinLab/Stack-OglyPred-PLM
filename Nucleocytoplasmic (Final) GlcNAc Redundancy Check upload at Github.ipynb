{
 "cells": [
  {
   "cell_type": "code",
   "execution_count": 4,
   "id": "4f2b9556",
   "metadata": {},
   "outputs": [],
   "source": [
    "import os\n",
    "import pandas as pd\n",
    "import numpy as np\n",
    "import random\n",
    "import tensorflow as tf\n",
    "from sklearn.metrics import confusion_matrix, matthews_corrcoef, accuracy_score, roc_auc_score, classification_report"
   ]
  },
  {
   "cell_type": "code",
   "execution_count": 5,
   "id": "58ad7b1a",
   "metadata": {},
   "outputs": [],
   "source": [
    "def predict_stacked_model(model, inputX):\n",
    "    # prepare input data\n",
    "    X = inputX\n",
    "    # make prediction\n",
    "    return model.predict(X, verbose=0)"
   ]
  },
  {
   "cell_type": "markdown",
   "id": "23d6374a",
   "metadata": {},
   "source": [
    "# Ankh Nucleocytoplasmic Training Dataset"
   ]
  },
  {
   "cell_type": "code",
   "execution_count": 96,
   "id": "313291e9",
   "metadata": {},
   "outputs": [
    {
     "name": "stdout",
     "output_type": "stream",
     "text": [
      "(238010, 1536) (238010,)\n"
     ]
    }
   ],
   "source": [
    "os.chdir(\"/homes/t326h379/Ankh_nucleocytoplasmic_dbptm_2231\")\n",
    "df_positive = pd.read_csv(\"Ankh_Feature_5724_Positive_Taining_Site_Intracellular_from_1638_Proteins.txt\",header=None)\n",
    "df_negative = pd.read_csv(\"Ankh_Feature_232286_Negative_Taining_Site_Intracellular_from_1638_Proteins.txt\",header = None)\n",
    "\n",
    "df_positive_positive = df_positive\n",
    "df_negative_negative = df_negative\n",
    "\n",
    "Header_name = [\"Position\",\"PID\",\"S_or_T\"]+[i for i in range(1,1537)]\n",
    "df_positive_positive.columns = Header_name\n",
    "df_negative_negative.columns = Header_name\n",
    "\n",
    "df_positive_only_feature_vector = df_positive_positive.drop([\"Position\",\"PID\",\"S_or_T\"],axis=1)\n",
    "df_positive_only_fv = np.array(df_positive_only_feature_vector)\n",
    "\n",
    "df_negative_only_feature_vector = df_negative_negative.drop([\"Position\",\"PID\",\"S_or_T\"],axis=1)\n",
    "df_negative_only_fv = np.array(df_negative_only_feature_vector)\n",
    "\n",
    "X_train_full_Ankh = np.vstack((df_positive_only_fv,df_negative_only_fv))\n",
    "\n",
    "y_train_full = [1]*df_positive_only_fv.shape[0]+[0]*df_negative_only_fv.shape[0]\n",
    "\n",
    "y_train_full_Ankh = np.array(y_train_full)\n",
    "\n",
    "print(X_train_full_Ankh.shape, y_train_full_Ankh.shape)"
   ]
  },
  {
   "cell_type": "code",
   "execution_count": 97,
   "id": "9d455270",
   "metadata": {},
   "outputs": [],
   "source": [
    "Training_PID_positive = list(df_positive_positive[\"PID\"])\n",
    "Training_Position_position = list(df_positive_positive[\"Position\"])"
   ]
  },
  {
   "cell_type": "code",
   "execution_count": 98,
   "id": "0a49534c",
   "metadata": {},
   "outputs": [],
   "source": [
    "Positive_Training = set()\n",
    "for i in range(len(Training_PID_positive)):\n",
    "    Tuple_value = (Training_PID_positive[i],Training_Position_position[i])\n",
    "    Positive_Training.add(Tuple_value)"
   ]
  },
  {
   "cell_type": "code",
   "execution_count": 99,
   "id": "03e127b1",
   "metadata": {},
   "outputs": [
    {
     "data": {
      "text/plain": [
       "5724"
      ]
     },
     "execution_count": 99,
     "metadata": {},
     "output_type": "execute_result"
    }
   ],
   "source": [
    "len(Positive_Training)"
   ]
  },
  {
   "cell_type": "code",
   "execution_count": 100,
   "id": "299e727f",
   "metadata": {},
   "outputs": [
    {
     "data": {
      "text/plain": [
       "[('Q9UPA5', 1652),\n",
       " ('Q9NRM2', 379),\n",
       " ('Q5T6F2', 20),\n",
       " ('O95487', 255),\n",
       " ('Q14980', 1847)]"
      ]
     },
     "execution_count": 100,
     "metadata": {},
     "output_type": "execute_result"
    }
   ],
   "source": [
    "list(Positive_Training)[:5]"
   ]
  },
  {
   "cell_type": "code",
   "execution_count": 101,
   "id": "77c396f4",
   "metadata": {},
   "outputs": [],
   "source": [
    "Training_PID_Negative = list(df_negative_negative[\"PID\"])\n",
    "Training_Position_Negative = list(df_negative_negative[\"Position\"])\n",
    "\n",
    "Negative_Training = set()\n",
    "for i in range(len(Training_PID_Negative)):\n",
    "    Umpa_Lumpa_value = (Training_PID_Negative[i],Training_Position_Negative[i])\n",
    "    Negative_Training.add(Umpa_Lumpa_value)"
   ]
  },
  {
   "cell_type": "code",
   "execution_count": 102,
   "id": "47821e0b",
   "metadata": {},
   "outputs": [
    {
     "data": {
      "text/plain": [
       "232286"
      ]
     },
     "execution_count": 102,
     "metadata": {},
     "output_type": "execute_result"
    }
   ],
   "source": [
    "len(Negative_Training)"
   ]
  },
  {
   "cell_type": "code",
   "execution_count": 103,
   "id": "1309dc16",
   "metadata": {},
   "outputs": [
    {
     "data": {
      "text/plain": [
       "[('O14686', 3830),\n",
       " ('Q7Z2Y8', 2334),\n",
       " ('Q86XN7', 798),\n",
       " ('Q9Y4B6', 95),\n",
       " ('Q8NEN0', 572)]"
      ]
     },
     "execution_count": 103,
     "metadata": {},
     "output_type": "execute_result"
    }
   ],
   "source": [
    "list(Negative_Training)[:5]"
   ]
  },
  {
   "cell_type": "markdown",
   "id": "dc86cd00",
   "metadata": {},
   "source": [
    "# Lets Check if there is any redundancy within the training sites and protein id"
   ]
  },
  {
   "cell_type": "code",
   "execution_count": 13,
   "id": "b571c3b7",
   "metadata": {},
   "outputs": [
    {
     "data": {
      "text/plain": [
       "0"
      ]
     },
     "execution_count": 13,
     "metadata": {},
     "output_type": "execute_result"
    }
   ],
   "source": [
    "len(Negative_Training.intersection(Positive_Training))"
   ]
  },
  {
   "cell_type": "markdown",
   "id": "04deef23",
   "metadata": {},
   "source": [
    "# Hurray no redundancy within the training sits and protein id"
   ]
  },
  {
   "cell_type": "code",
   "execution_count": 15,
   "id": "34319b9f",
   "metadata": {},
   "outputs": [],
   "source": [
    "Total_Training = Negative_Training.union(Positive_Training)"
   ]
  },
  {
   "cell_type": "code",
   "execution_count": 17,
   "id": "f7735834",
   "metadata": {},
   "outputs": [
    {
     "data": {
      "text/plain": [
       "[('O14686', 3830),\n",
       " ('Q7Z2Y8', 2334),\n",
       " ('Q86XN7', 798),\n",
       " ('Q9Y4B6', 95),\n",
       " ('Q8NEN0', 572)]"
      ]
     },
     "execution_count": 17,
     "metadata": {},
     "output_type": "execute_result"
    }
   ],
   "source": [
    "list(Total_Training)[:5]"
   ]
  },
  {
   "cell_type": "code",
   "execution_count": 18,
   "id": "79bbf272",
   "metadata": {},
   "outputs": [
    {
     "data": {
      "text/plain": [
       "238010"
      ]
     },
     "execution_count": 18,
     "metadata": {},
     "output_type": "execute_result"
    }
   ],
   "source": [
    "len(Total_Training)"
   ]
  },
  {
   "cell_type": "markdown",
   "id": "5ae4a499",
   "metadata": {},
   "source": [
    "# Ankh Nucleocytoplasmic Independent Test Dataset"
   ]
  },
  {
   "cell_type": "code",
   "execution_count": 46,
   "id": "5b13766c",
   "metadata": {},
   "outputs": [
    {
     "name": "stdout",
     "output_type": "stream",
     "text": [
      "(28093, 1536) (28093,)\n"
     ]
    }
   ],
   "source": [
    "os.chdir(\"/homes/t326h379/Ankh_nucleocytoplasmic_dbptm_2231\")\n",
    "\n",
    "df_positive_Test = pd.read_csv(\"Ankh_Feature_1062_Positive_Independent_Testing_Site_Intracellular_from_183_Proteins.txt\",header = None)\n",
    "df_negative_Test = pd.read_csv(\"Ankh_Feature_27031_Negative_Independent_Testing_Site_Intracellular_from_183_Proteins.txt\",header = None)\n",
    "\n",
    "df_positive_positive_Test = df_positive_Test\n",
    "df_negative_negative_Test = df_negative_Test\n",
    "\n",
    "Header_name = [\"Position\",\"PID\",\"S_or_T\"]+[i for i in range(1,1537)]\n",
    "df_positive_positive_Test.columns = Header_name\n",
    "df_negative_negative_Test.columns = Header_name\n",
    "\n",
    "df_positive_only_feature_vector = df_positive_positive_Test.drop([\"Position\",\"PID\",\"S_or_T\"],axis=1)\n",
    "df_positive_only_fv = np.array(df_positive_only_feature_vector)\n",
    "\n",
    "df_negative_only_feature_vector = df_negative_negative_Test.drop([\"Position\",\"PID\",\"S_or_T\"],axis=1)\n",
    "df_negative_only_fv = np.array(df_negative_only_feature_vector)\n",
    "\n",
    "X_test_full = np.vstack((df_positive_only_fv,df_negative_only_fv))\n",
    "\n",
    "y_test_full = [1]*df_positive_only_fv.shape[0]+[0]*df_negative_only_fv.shape[0]\n",
    "\n",
    "y_test_full = np.array(y_test_full)\n",
    "\n",
    "X_independent_Ankh = X_test_full\n",
    "\n",
    "y_independent_Ankh = y_test_full\n",
    "\n",
    "print(X_independent_Ankh.shape, y_independent_Ankh.shape)"
   ]
  },
  {
   "cell_type": "code",
   "execution_count": 47,
   "id": "798cb135",
   "metadata": {},
   "outputs": [],
   "source": [
    "Test_PID_positive = list(df_positive_positive_Test[\"PID\"])\n",
    "Test_Position_positive = list(df_positive_positive_Test[\"Position\"])\n",
    "\n",
    "Positive_Test = set()\n",
    "for i in range(len(Test_PID_positive)):\n",
    "    Tuple_value = (Test_PID_positive[i],Test_Position_positive[i])\n",
    "    Positive_Test.add(Tuple_value)"
   ]
  },
  {
   "cell_type": "code",
   "execution_count": 48,
   "id": "436d594d",
   "metadata": {},
   "outputs": [
    {
     "data": {
      "text/plain": [
       "[('P49790', 550),\n",
       " ('Q6PJT7', 331),\n",
       " ('Q8IX12', 131),\n",
       " ('Q14157', 967),\n",
       " ('P04792', 187)]"
      ]
     },
     "execution_count": 48,
     "metadata": {},
     "output_type": "execute_result"
    }
   ],
   "source": [
    "list(Positive_Test)[:5]"
   ]
  },
  {
   "cell_type": "code",
   "execution_count": 49,
   "id": "8d091197",
   "metadata": {},
   "outputs": [
    {
     "data": {
      "text/plain": [
       "1062"
      ]
     },
     "execution_count": 49,
     "metadata": {},
     "output_type": "execute_result"
    }
   ],
   "source": [
    "len(Positive_Test)"
   ]
  },
  {
   "cell_type": "code",
   "execution_count": 50,
   "id": "852f0185",
   "metadata": {},
   "outputs": [],
   "source": [
    "Test_PID_Negative = list(df_negative_negative_Test[\"PID\"])\n",
    "Test_Position_Negative = list(df_negative_negative_Test[\"Position\"])\n",
    "\n",
    "Negative_Test = set()\n",
    "for i in range(len(Test_PID_Negative)):\n",
    "    Umpa_Lumpa_value = (Test_PID_Negative[i],Test_Position_Negative[i])\n",
    "    Negative_Test.add(Umpa_Lumpa_value)"
   ]
  },
  {
   "cell_type": "code",
   "execution_count": 51,
   "id": "fc0183f1",
   "metadata": {},
   "outputs": [
    {
     "data": {
      "text/plain": [
       "[('Q03164', 2027),\n",
       " ('Q9NRA8', 792),\n",
       " ('Q76NI1', 274),\n",
       " ('O14974', 520),\n",
       " ('Q03001', 3583)]"
      ]
     },
     "execution_count": 51,
     "metadata": {},
     "output_type": "execute_result"
    }
   ],
   "source": [
    "list(Negative_Test)[:5]"
   ]
  },
  {
   "cell_type": "code",
   "execution_count": 52,
   "id": "abcefd6b",
   "metadata": {},
   "outputs": [
    {
     "data": {
      "text/plain": [
       "27031"
      ]
     },
     "execution_count": 52,
     "metadata": {},
     "output_type": "execute_result"
    }
   ],
   "source": [
    "len(Negative_Test)"
   ]
  },
  {
   "cell_type": "markdown",
   "id": "a23c7058",
   "metadata": {},
   "source": [
    "# Lets Check if there is any redundancy within the independent test sites and protein id"
   ]
  },
  {
   "cell_type": "code",
   "execution_count": 53,
   "id": "dcafe579",
   "metadata": {},
   "outputs": [
    {
     "data": {
      "text/plain": [
       "set()"
      ]
     },
     "execution_count": 53,
     "metadata": {},
     "output_type": "execute_result"
    }
   ],
   "source": [
    "Positive_Test.intersection(Negative_Test)"
   ]
  },
  {
   "cell_type": "code",
   "execution_count": 54,
   "id": "976bf95f",
   "metadata": {},
   "outputs": [],
   "source": [
    "total_testing = Positive_Test.union(Negative_Test)"
   ]
  },
  {
   "cell_type": "markdown",
   "id": "9ab82a37",
   "metadata": {},
   "source": [
    "# Lets Check if there is any redundancy across the independent test (Protein ID and Sites) and training (Protein ID and Sites)"
   ]
  },
  {
   "cell_type": "code",
   "execution_count": 55,
   "id": "58837921",
   "metadata": {},
   "outputs": [
    {
     "data": {
      "text/plain": [
       "238010"
      ]
     },
     "execution_count": 55,
     "metadata": {},
     "output_type": "execute_result"
    }
   ],
   "source": [
    "len(Total_Training)"
   ]
  },
  {
   "cell_type": "code",
   "execution_count": 56,
   "id": "f65cd841",
   "metadata": {},
   "outputs": [
    {
     "data": {
      "text/plain": [
       "[('O14686', 3830),\n",
       " ('Q7Z2Y8', 2334),\n",
       " ('Q86XN7', 798),\n",
       " ('Q9Y4B6', 95),\n",
       " ('Q8NEN0', 572)]"
      ]
     },
     "execution_count": 56,
     "metadata": {},
     "output_type": "execute_result"
    }
   ],
   "source": [
    "list(Total_Training)[:5]"
   ]
  },
  {
   "cell_type": "code",
   "execution_count": 57,
   "id": "cc8dd9e6",
   "metadata": {},
   "outputs": [
    {
     "data": {
      "text/plain": [
       "[('Q8NDV7', 1603),\n",
       " ('Q15020', 642),\n",
       " ('Q9HCD6', 233),\n",
       " ('P51610', 961),\n",
       " ('Q8N3P4', 313)]"
      ]
     },
     "execution_count": 57,
     "metadata": {},
     "output_type": "execute_result"
    }
   ],
   "source": [
    "list(Total_Training)[-5:]"
   ]
  },
  {
   "cell_type": "code",
   "execution_count": 58,
   "id": "fef5b4cc",
   "metadata": {},
   "outputs": [
    {
     "data": {
      "text/plain": [
       "28093"
      ]
     },
     "execution_count": 58,
     "metadata": {},
     "output_type": "execute_result"
    }
   ],
   "source": [
    "len(total_testing)"
   ]
  },
  {
   "cell_type": "code",
   "execution_count": 59,
   "id": "35bf1b55",
   "metadata": {},
   "outputs": [
    {
     "data": {
      "text/plain": [
       "[('P07197', 904),\n",
       " ('Q03164', 2027),\n",
       " ('Q9NRA8', 792),\n",
       " ('P49790', 1215),\n",
       " ('Q76NI1', 274)]"
      ]
     },
     "execution_count": 59,
     "metadata": {},
     "output_type": "execute_result"
    }
   ],
   "source": [
    "list(total_testing)[:5]"
   ]
  },
  {
   "cell_type": "code",
   "execution_count": 60,
   "id": "94b39fde",
   "metadata": {},
   "outputs": [
    {
     "data": {
      "text/plain": [
       "[('P49790', 276),\n",
       " ('Q3YEC7', 535),\n",
       " ('Q5TGY3', 11),\n",
       " ('O95817', 348),\n",
       " ('Q9H2D6', 146)]"
      ]
     },
     "execution_count": 60,
     "metadata": {},
     "output_type": "execute_result"
    }
   ],
   "source": [
    "list(total_testing)[-5:]"
   ]
  },
  {
   "cell_type": "code",
   "execution_count": 61,
   "id": "950ba9a2",
   "metadata": {},
   "outputs": [
    {
     "data": {
      "text/plain": [
       "set()"
      ]
     },
     "execution_count": 61,
     "metadata": {},
     "output_type": "execute_result"
    }
   ],
   "source": [
    "Total_Training.intersection(total_testing)"
   ]
  },
  {
   "cell_type": "markdown",
   "id": "29d5907a",
   "metadata": {},
   "source": [
    "# Hurray There is no redundancy across training and independent testing"
   ]
  },
  {
   "cell_type": "code",
   "execution_count": null,
   "id": "7a9aa6c5",
   "metadata": {},
   "outputs": [],
   "source": []
  },
  {
   "cell_type": "markdown",
   "id": "8f296196",
   "metadata": {},
   "source": [
    "# Download training Protein"
   ]
  },
  {
   "cell_type": "code",
   "execution_count": 66,
   "id": "99543c0b",
   "metadata": {},
   "outputs": [
    {
     "data": {
      "text/plain": [
       "183"
      ]
     },
     "execution_count": 66,
     "metadata": {},
     "output_type": "execute_result"
    }
   ],
   "source": [
    "len(set(df_positive_positive_Test[\"PID\"]))"
   ]
  },
  {
   "cell_type": "code",
   "execution_count": 67,
   "id": "1192d5a9",
   "metadata": {},
   "outputs": [
    {
     "data": {
      "text/plain": [
       "183"
      ]
     },
     "execution_count": 67,
     "metadata": {},
     "output_type": "execute_result"
    }
   ],
   "source": [
    "len(set(df_negative_negative[\"PID\"]))"
   ]
  },
  {
   "cell_type": "code",
   "execution_count": 68,
   "id": "4e5ff69a",
   "metadata": {},
   "outputs": [],
   "source": [
    "Total_Test_Protein = set(df_positive_positive_Test[\"PID\"]).union(set(df_negative_negative[\"PID\"]))"
   ]
  },
  {
   "cell_type": "code",
   "execution_count": 72,
   "id": "c0264451",
   "metadata": {},
   "outputs": [],
   "source": [
    "import os\n",
    "os.chdir(\"/homes/t326h379/Nucleocytoplasmic_183_Test_Proteins\")\n",
    "list_Total_Test_Protein = list(Total_Test_Protein)\n",
    "with open(\"Nucleocytoplasmic_183_Test_Proteins.txt\",\"a+\") as Subash:\n",
    "    for value in list_Total_Test_Protein:\n",
    "        download_link = \"https://rest.uniprot.org/uniprotkb/\"+value+\".fasta\"\n",
    "        Subash.write(download_link+\"\\n\")    "
   ]
  },
  {
   "cell_type": "markdown",
   "id": "fa01545a",
   "metadata": {},
   "source": [
    "# Extract the 81 Positive Window of the Independent Test Dataset from Testing Proteins"
   ]
  },
  {
   "cell_type": "code",
   "execution_count": 73,
   "id": "45fa369c",
   "metadata": {},
   "outputs": [
    {
     "data": {
      "text/plain": [
       "(1062, 1062)"
      ]
     },
     "execution_count": 73,
     "metadata": {},
     "output_type": "execute_result"
    }
   ],
   "source": [
    "len(Test_PID_positive), len(Test_Position_positive)"
   ]
  },
  {
   "cell_type": "code",
   "execution_count": 112,
   "id": "0860a9cb",
   "metadata": {},
   "outputs": [],
   "source": [
    "import os \n",
    "os.chdir(\"/homes/t326h379/Nucleocytoplasmic_183_Test_Proteins\")\n",
    "\n",
    "import re\n",
    "from Bio import SeqIO\n",
    "\n",
    "import os \n",
    "window_size = 81\n",
    "\n",
    "def open_file_extract_window(pid,position):\n",
    "    position = int(position)-1\n",
    "    fasta_file = pid+\".fasta\"\n",
    "    with open(\"GlacNAC_81_window_INDEPENDENT_TEST_Positive.fasta\",\"a+\") as fp:\n",
    "        for seq_record in SeqIO.parse(fasta_file,\"fasta\"):\n",
    "            placeholder = seq_record.id.split(\"|\")[1]  \n",
    "            seq = str(seq_record.seq)\n",
    "            if placeholder == pid:\n",
    "                position = int(position)\n",
    "                if (seq[position] == \"S\" or seq[position] == \"T\"):\n",
    "                    half_window = window_size // 2\n",
    "\n",
    "                    C_terminal_calculation = len(seq) - position\n",
    "                   \n",
    "                   \n",
    "                    if len(seq) > 41 and len(seq) < 81:\n",
    "                        check_length_of_t_terminal = seq[position+1:]\n",
    "                        check_length_of_N_terminal = seq[:position]\n",
    "\n",
    "                        \n",
    "                        if len(check_length_of_t_terminal) < 41 and len(check_length_of_N_terminal) < 41:\n",
    "                            half_window_size = 40\n",
    "                            n_terminal_dummy_to_be_filled = half_window_size-len(check_length_of_N_terminal)\n",
    "                            fillerr=[]            \n",
    "                            for x in range(half_window_size):\n",
    "                                dummy=\"-\"\n",
    "                                fillerr.append(dummy)\n",
    "                            select = fillerr[0:int(n_terminal_dummy_to_be_filled)]\n",
    "                            nTer_adjust = ''.join(select)\n",
    "                            N_Terminal_needed_sequence = nTer_adjust+check_length_of_N_terminal\n",
    "                            \n",
    "                            t_terminal_dummy_to_be_filled = half_window_size-len(check_length_of_t_terminal)\n",
    "                            t_fill = []\n",
    "                            for x in range(half_window_size):\n",
    "                                dummy=\"-\"\n",
    "                                t_fill.append(dummy)\n",
    "                            t_select = t_fill[0:int(t_terminal_dummy_to_be_filled)]\n",
    "                            tTer_adjust = ''.join(t_select)\n",
    "                            TT_Terminal_needed_sequence = check_length_of_t_terminal+tTer_adjust\n",
    "                            \n",
    "                            final_window = N_Terminal_needed_sequence + seq[position] + TT_Terminal_needed_sequence\n",
    "                            fp.write(\">\")\n",
    "                            fp.write(pid)\n",
    "                            fp.write(\"|\")\n",
    "                            fp.write(str(position))\n",
    "                            fp.write(\"\\n\")\n",
    "                            fp.write(final_window)\n",
    "                            fp.write(\"\\n\")                           \n",
    "\n",
    "                        else:\n",
    "                            if position < 41:\n",
    "                                n_terminal_sequence = seq[:position+1]\n",
    "                                p_terminal_sequence = seq[position+1:41+position]\n",
    "                                needed_sequence = n_terminal_sequence+p_terminal_sequence\n",
    "                                dummy_to_be_filled = window_size - len(needed_sequence)\n",
    "\n",
    "                                fill=[]            \n",
    "                                for x in range(window_size):\n",
    "                                    dummy=\"-\"\n",
    "                                    fill.append(dummy)\n",
    "                                select = fill[0:int(dummy_to_be_filled)]\n",
    "                                nTer_adjust = ''.join(select)\n",
    "                                motif = nTer_adjust +needed_sequence\n",
    "                                fp.write(\">\")\n",
    "                                fp.write(pid)\n",
    "                                fp.write(\"|\")\n",
    "                                fp.write(str(position))\n",
    "                                fp.write(\"\\n\")\n",
    "                                fp.write(motif)\n",
    "                                fp.write(\"\\n\")  \n",
    "\n",
    "                            if position > 41 or position == 41:\n",
    "                                index_of_half_window_sequence = position-40\n",
    "                                n_terminal = seq[index_of_half_window_sequence:position]\n",
    "                                needed_sequence_we_need = n_terminal+seq[position:]\n",
    "\n",
    "                                dummy_to_be_filled = window_size - len(needed_sequence_we_need)\n",
    "\n",
    "                                fill=[]            \n",
    "                                for x in range(window_size):\n",
    "                                    dummy=\"-\"\n",
    "                                    fill.append(dummy)\n",
    "                                select = fill[0:int(dummy_to_be_filled)]\n",
    "                                tTer_adjust = ''.join(select)\n",
    "                                total_length = needed_sequence_we_need+tTer_adjust\n",
    "                                fp.write(\">\")\n",
    "                                fp.write(pid)\n",
    "                                fp.write(\"|\")\n",
    "                                fp.write(str(position))\n",
    "                                fp.write(\"\\n\")\n",
    "                                fp.write(total_length)  \n",
    "                                fp.write(\"\\n\")  \n",
    "\n",
    "\n",
    "                    if len(seq) > 82 or len(seq) == 82:\n",
    "                        if position < half_window:\n",
    "                            # N_terminal_pad\n",
    "                            dummy_to_be_filled = half_window - position\n",
    "                            fill=[]            \n",
    "                            for x in range(window_size):\n",
    "                                dummy=\"-\"\n",
    "                                fill.append(dummy)\n",
    "                            select = fill[0:int(dummy_to_be_filled)]\n",
    "                            N_terminal_truncated_motif = seq[0:position+half_window+1]\n",
    "                            nTer_adjust = ''.join(select)\n",
    "                            motif = nTer_adjust+N_terminal_truncated_motif\n",
    "                            fp.write(\">\")\n",
    "                            fp.write(pid)\n",
    "                            fp.write(\"|\")\n",
    "                            fp.write(str(position))\n",
    "                            fp.write(\"\\n\")\n",
    "                            fp.write(motif)\n",
    "                            fp.write(\"\\n\")\n",
    "\n",
    "                        if C_terminal_calculation < half_window:\n",
    "                            # C_terminal_pad\n",
    "                            C_terminal_motif = seq[position-40:]\n",
    "                            dummy_to_be_filled = window_size - len(C_terminal_motif)\n",
    "\n",
    "                            fill=[]            \n",
    "                            for x in range(window_size):\n",
    "                                dummy=\"-\"\n",
    "                                fill.append(dummy)\n",
    "                            select = fill[0:int(dummy_to_be_filled)]\n",
    "                            cTer_adjust = ''.join(select)\n",
    "                            motif = C_terminal_motif+cTer_adjust\n",
    "                            fp.write(\">\")\n",
    "                            fp.write(pid)\n",
    "                            fp.write(\"|\")\n",
    "                            fp.write(str(position))\n",
    "                            fp.write(\"\\n\")\n",
    "                            fp.write(motif)\n",
    "                            fp.write(\"\\n\")\n",
    "\n",
    "\n",
    "                        if len(seq[int(position)-half_window:int(position)+half_window+1]) == window_size:\n",
    "                            motif = seq[int(position)-40:int(position)+41]\n",
    "                            fp.write(\">\")\n",
    "                            fp.write(pid)\n",
    "                            fp.write(\"|\")\n",
    "                            fp.write(str(position))\n",
    "                            fp.write(\"\\n\")\n",
    "                            fp.write(motif)\n",
    "                            fp.write(\"\\n\")\n",
    "                            \n",
    "for i in range(len(Test_PID_positive)):\n",
    "    pid = Test_PID_positive[i]\n",
    "    position = Test_Position_positive[i]\n",
    "    try:\n",
    "        open_file_extract_window(pid,position)\n",
    "    except:\n",
    "        pass"
   ]
  },
  {
   "cell_type": "code",
   "execution_count": 113,
   "id": "471a5cbb",
   "metadata": {},
   "outputs": [],
   "source": [
    "Testing_Independent_Positive_81_window_Peptide_of_Nucleocytoplasmic_proteins = set()\n",
    "with open(\"GlacNAC_81_window_INDEPENDENT_TEST_Positive.fasta\") as fp:\n",
    "    for line in fp:\n",
    "        if line.startswith(\">\"):\n",
    "            pass\n",
    "        else:\n",
    "            x = line.strip(\"\\n\")\n",
    "            Testing_Independent_Positive_81_window_Peptide_of_Nucleocytoplasmic_proteins.add(x)"
   ]
  },
  {
   "cell_type": "code",
   "execution_count": 114,
   "id": "411e4094",
   "metadata": {},
   "outputs": [
    {
     "data": {
      "text/plain": [
       "1055"
      ]
     },
     "execution_count": 114,
     "metadata": {},
     "output_type": "execute_result"
    }
   ],
   "source": [
    "len(Testing_Independent_Positive_81_window_Peptide_of_Nucleocytoplasmic_proteins)"
   ]
  },
  {
   "cell_type": "code",
   "execution_count": 115,
   "id": "d3bbaa10",
   "metadata": {},
   "outputs": [
    {
     "data": {
      "text/plain": [
       "['GFGTALGAGQASLFGNNQPKIGGPLGTGAFGAPGFNTTTATLGFGAPQAPVALTDPNASAAQQAVLQQHINSLTYSPFGDS',\n",
       " 'EAGAEWAGDKGGGWAPHHGHPGGQAGRNCGFQGTEARAFASTGLESGASGRGSYYSTGAPSGQTELSQERQNLFTGYFRSL',\n",
       " '----MFQVPDSEGGRAGSRAMKPPGGESSNLFGSPEEATPSSRPNRMASNIFGPTEEPQNIPKRTNPPGGKGSGIFDESTP',\n",
       " 'EDSFLGQTSIHTSAPQTFSYFSQVSSSSDPFGNIGQSPLTTAATSVGQSGFPKPLTALPFTTGSQDVSNAFSPSISKAQPG',\n",
       " 'FVFGQSSNPVSSSAFGNTAESSTSQSLLFSQDSKLATTSSTGTAVTPFVFGPGASSNNTTTSGFGFGATTTSSSAGSSFVF']"
      ]
     },
     "execution_count": 115,
     "metadata": {},
     "output_type": "execute_result"
    }
   ],
   "source": [
    "list(Testing_Independent_Positive_81_window_Peptide_of_Nucleocytoplasmic_proteins)[:5]"
   ]
  },
  {
   "cell_type": "markdown",
   "id": "a9762d65",
   "metadata": {},
   "source": [
    "# Extract the 81 Negative Window of the Independent Test Dataset from Testing Proteins"
   ]
  },
  {
   "cell_type": "code",
   "execution_count": 81,
   "id": "c38b9943",
   "metadata": {},
   "outputs": [
    {
     "data": {
      "text/plain": [
       "(27031, 27031)"
      ]
     },
     "execution_count": 81,
     "metadata": {},
     "output_type": "execute_result"
    }
   ],
   "source": [
    "len(Test_PID_Negative), len(Test_Position_Negative)"
   ]
  },
  {
   "cell_type": "code",
   "execution_count": 83,
   "id": "839902a8",
   "metadata": {},
   "outputs": [
    {
     "data": {
      "text/plain": [
       "['Q8TC56', 'Q9Y4B4', 'O94880', 'Q01813', 'Q14157']"
      ]
     },
     "execution_count": 83,
     "metadata": {},
     "output_type": "execute_result"
    }
   ],
   "source": [
    "Test_PID_Negative[:5]"
   ]
  },
  {
   "cell_type": "code",
   "execution_count": 85,
   "id": "8281a06e",
   "metadata": {},
   "outputs": [
    {
     "data": {
      "text/plain": [
       "['Q8TC56', 'O00507', 'O15417', 'Q9UGU0', 'Q8IVE3']"
      ]
     },
     "execution_count": 85,
     "metadata": {},
     "output_type": "execute_result"
    }
   ],
   "source": [
    "Test_PID_Negative[-5:]"
   ]
  },
  {
   "cell_type": "code",
   "execution_count": 86,
   "id": "f482f2bf",
   "metadata": {},
   "outputs": [
    {
     "data": {
      "text/plain": [
       "[77, 49, 905, 91, 553]"
      ]
     },
     "execution_count": 86,
     "metadata": {},
     "output_type": "execute_result"
    }
   ],
   "source": [
    "Test_Position_Negative[:5]"
   ]
  },
  {
   "cell_type": "code",
   "execution_count": 87,
   "id": "d4790926",
   "metadata": {},
   "outputs": [
    {
     "data": {
      "text/plain": [
       "[326, 615, 2561, 1830, 318]"
      ]
     },
     "execution_count": 87,
     "metadata": {},
     "output_type": "execute_result"
    }
   ],
   "source": [
    "Test_Position_Negative[-5:]"
   ]
  },
  {
   "cell_type": "code",
   "execution_count": 116,
   "id": "deedf4c0",
   "metadata": {},
   "outputs": [],
   "source": [
    "import os \n",
    "os.chdir(\"/homes/t326h379/Nucleocytoplasmic_183_Test_Proteins\")\n",
    "\n",
    "import re\n",
    "from Bio import SeqIO\n",
    "\n",
    "import os \n",
    "window_size = 81\n",
    "\n",
    "def open_file_extract_window(pid,position):\n",
    "    position = int(position)-1\n",
    "    fasta_file = pid+\".fasta\"\n",
    "    with open(\"GlacNAC_81_window_INDEPENDENT_TEST_Negative.fasta\",\"a+\") as fp:\n",
    "        for seq_record in SeqIO.parse(fasta_file,\"fasta\"):\n",
    "            placeholder = seq_record.id.split(\"|\")[1]  \n",
    "            seq = str(seq_record.seq)\n",
    "            if placeholder == pid:\n",
    "                position = int(position)\n",
    "                if (seq[position] == \"S\" or seq[position] == \"T\"):\n",
    "                    half_window = window_size // 2\n",
    "\n",
    "                    C_terminal_calculation = len(seq) - position\n",
    "                   \n",
    "                   \n",
    "                    if len(seq) > 41 and len(seq) < 81:\n",
    "                        check_length_of_t_terminal = seq[position+1:]\n",
    "                        check_length_of_N_terminal = seq[:position]\n",
    "\n",
    "                        \n",
    "                        if len(check_length_of_t_terminal) < 41 and len(check_length_of_N_terminal) < 41:\n",
    "                            half_window_size = 40\n",
    "                            n_terminal_dummy_to_be_filled = half_window_size-len(check_length_of_N_terminal)\n",
    "                            fillerr=[]            \n",
    "                            for x in range(half_window_size):\n",
    "                                dummy=\"-\"\n",
    "                                fillerr.append(dummy)\n",
    "                            select = fillerr[0:int(n_terminal_dummy_to_be_filled)]\n",
    "                            nTer_adjust = ''.join(select)\n",
    "                            N_Terminal_needed_sequence = nTer_adjust+check_length_of_N_terminal\n",
    "                            \n",
    "                            t_terminal_dummy_to_be_filled = half_window_size-len(check_length_of_t_terminal)\n",
    "                            t_fill = []\n",
    "                            for x in range(half_window_size):\n",
    "                                dummy=\"-\"\n",
    "                                t_fill.append(dummy)\n",
    "                            t_select = t_fill[0:int(t_terminal_dummy_to_be_filled)]\n",
    "                            tTer_adjust = ''.join(t_select)\n",
    "                            TT_Terminal_needed_sequence = check_length_of_t_terminal+tTer_adjust\n",
    "                            \n",
    "                            final_window = N_Terminal_needed_sequence + seq[position] + TT_Terminal_needed_sequence\n",
    "                            fp.write(\">\")\n",
    "                            fp.write(pid)\n",
    "                            fp.write(\"|\")\n",
    "                            fp.write(str(position))\n",
    "                            fp.write(\"\\n\")\n",
    "                            fp.write(final_window)\n",
    "                            fp.write(\"\\n\")                           \n",
    "\n",
    "                        else:\n",
    "                            if position < 41:\n",
    "                                n_terminal_sequence = seq[:position+1]\n",
    "                                p_terminal_sequence = seq[position+1:41+position]\n",
    "                                needed_sequence = n_terminal_sequence+p_terminal_sequence\n",
    "                                dummy_to_be_filled = window_size - len(needed_sequence)\n",
    "\n",
    "                                fill=[]            \n",
    "                                for x in range(window_size):\n",
    "                                    dummy=\"-\"\n",
    "                                    fill.append(dummy)\n",
    "                                select = fill[0:int(dummy_to_be_filled)]\n",
    "                                nTer_adjust = ''.join(select)\n",
    "                                motif = nTer_adjust +needed_sequence\n",
    "                                fp.write(\">\")\n",
    "                                fp.write(pid)\n",
    "                                fp.write(\"|\")\n",
    "                                fp.write(str(position))\n",
    "                                fp.write(\"\\n\")\n",
    "                                fp.write(motif)\n",
    "                                fp.write(\"\\n\")  \n",
    "\n",
    "                            if position > 41 or position == 41:\n",
    "                                index_of_half_window_sequence = position-40\n",
    "                                n_terminal = seq[index_of_half_window_sequence:position]\n",
    "                                needed_sequence_we_need = n_terminal+seq[position:]\n",
    "\n",
    "                                dummy_to_be_filled = window_size - len(needed_sequence_we_need)\n",
    "\n",
    "                                fill=[]            \n",
    "                                for x in range(window_size):\n",
    "                                    dummy=\"-\"\n",
    "                                    fill.append(dummy)\n",
    "                                select = fill[0:int(dummy_to_be_filled)]\n",
    "                                tTer_adjust = ''.join(select)\n",
    "                                total_length = needed_sequence_we_need+tTer_adjust\n",
    "                                fp.write(\">\")\n",
    "                                fp.write(pid)\n",
    "                                fp.write(\"|\")\n",
    "                                fp.write(str(position))\n",
    "                                fp.write(\"\\n\")\n",
    "                                fp.write(total_length)  \n",
    "                                fp.write(\"\\n\")  \n",
    "\n",
    "\n",
    "                    if len(seq) > 82 or len(seq) == 82:\n",
    "                        if position < half_window:\n",
    "                            # N_terminal_pad\n",
    "                            dummy_to_be_filled = half_window - position\n",
    "                            fill=[]            \n",
    "                            for x in range(window_size):\n",
    "                                dummy=\"-\"\n",
    "                                fill.append(dummy)\n",
    "                            select = fill[0:int(dummy_to_be_filled)]\n",
    "                            N_terminal_truncated_motif = seq[0:position+half_window+1]\n",
    "                            nTer_adjust = ''.join(select)\n",
    "                            motif = nTer_adjust+N_terminal_truncated_motif\n",
    "                            fp.write(\">\")\n",
    "                            fp.write(pid)\n",
    "                            fp.write(\"|\")\n",
    "                            fp.write(str(position))\n",
    "                            fp.write(\"\\n\")\n",
    "                            fp.write(motif)\n",
    "                            fp.write(\"\\n\")\n",
    "\n",
    "                        if C_terminal_calculation < half_window:\n",
    "                            # C_terminal_pad\n",
    "                            C_terminal_motif = seq[position-40:]\n",
    "                            dummy_to_be_filled = window_size - len(C_terminal_motif)\n",
    "\n",
    "                            fill=[]            \n",
    "                            for x in range(window_size):\n",
    "                                dummy=\"-\"\n",
    "                                fill.append(dummy)\n",
    "                            select = fill[0:int(dummy_to_be_filled)]\n",
    "                            cTer_adjust = ''.join(select)\n",
    "                            motif = C_terminal_motif+cTer_adjust\n",
    "                            fp.write(\">\")\n",
    "                            fp.write(pid)\n",
    "                            fp.write(\"|\")\n",
    "                            fp.write(str(position))\n",
    "                            fp.write(\"\\n\")\n",
    "                            fp.write(motif)\n",
    "                            fp.write(\"\\n\")\n",
    "\n",
    "\n",
    "                        if len(seq[int(position)-half_window:int(position)+half_window+1]) == window_size:\n",
    "                            motif = seq[int(position)-40:int(position)+41]\n",
    "                            fp.write(\">\")\n",
    "                            fp.write(pid)\n",
    "                            fp.write(\"|\")\n",
    "                            fp.write(str(position))\n",
    "                            fp.write(\"\\n\")\n",
    "                            fp.write(motif)\n",
    "                            fp.write(\"\\n\")\n",
    "                            \n",
    "for i in range(len(Test_PID_Negative)):\n",
    "    pid = Test_PID_Negative[i]\n",
    "    position = Test_Position_Negative[i]\n",
    "    try:\n",
    "        open_file_extract_window(pid,position)\n",
    "    except:\n",
    "        pass"
   ]
  },
  {
   "cell_type": "code",
   "execution_count": 117,
   "id": "7e8a5e23",
   "metadata": {},
   "outputs": [],
   "source": [
    "Testing_Independent_Negative_81_window_Peptide_of_Nucleocytoplasmic_proteins = set()\n",
    "with open(\"GlacNAC_81_window_INDEPENDENT_TEST_Negative.fasta\") as fp:\n",
    "    for line in fp:\n",
    "        if line.startswith(\">\"):\n",
    "            pass\n",
    "        else:\n",
    "            x = line.strip(\"\\n\")\n",
    "            Testing_Independent_Negative_81_window_Peptide_of_Nucleocytoplasmic_proteins.add(x)"
   ]
  },
  {
   "cell_type": "code",
   "execution_count": 118,
   "id": "333a9f54",
   "metadata": {},
   "outputs": [
    {
     "data": {
      "text/plain": [
       "['SGGEERLASHNLFREEEQCDLPKISQLDGVDDGTESDTSVTATTRKSSQIPKRNGKENGTENLKIDRPEDAGEKEHVTKSS',\n",
       " 'TTLTAPQPPQVPPTQQVPPSQSQQQAQTLVVQPMLQSSPLSLPPDAAPKPPIPIQSKPPVAPIKPPQLGAAKMSAAQQPPP',\n",
       " 'GGDGATKYITKSVTVTQKVEEHEETFEEKLVSTKKVEKVTSHAIVKEVTQSD-----------------------------',\n",
       " 'LTVVDKPDPPAGTPCASDIRSSSLTLSWYGSSYDGGSAVQSYSIEIWDSANKTWKELATCRSTSFNVQDLLPDHEYKFRVR',\n",
       " 'KHKQLNESIIVALFQGQFKSTVQCLTCHKKSRTFEAFMYLSLPLASTSKCTLQDCLRLFSKEEKLTDNNRFYCSHCRARRD']"
      ]
     },
     "execution_count": 118,
     "metadata": {},
     "output_type": "execute_result"
    }
   ],
   "source": [
    "list(Testing_Independent_Negative_81_window_Peptide_of_Nucleocytoplasmic_proteins)[:5]"
   ]
  },
  {
   "cell_type": "markdown",
   "id": "af3a4279",
   "metadata": {},
   "source": [
    "# Lets check the peptide similarity within the test postive and test negative dataset"
   ]
  },
  {
   "cell_type": "code",
   "execution_count": 119,
   "id": "c623f4d7",
   "metadata": {},
   "outputs": [
    {
     "data": {
      "text/plain": [
       "set()"
      ]
     },
     "execution_count": 119,
     "metadata": {},
     "output_type": "execute_result"
    }
   ],
   "source": [
    "Testing_Independent_Positive_81_window_Peptide_of_Nucleocytoplasmic_proteins.intersection(Testing_Independent_Negative_81_window_Peptide_of_Nucleocytoplasmic_proteins)"
   ]
  },
  {
   "cell_type": "markdown",
   "id": "af1c4a78",
   "metadata": {},
   "source": [
    "# Hurray there is no peptide similarity with the test dataset"
   ]
  },
  {
   "cell_type": "code",
   "execution_count": 106,
   "id": "383e348e",
   "metadata": {},
   "outputs": [
    {
     "data": {
      "text/plain": [
       "1638"
      ]
     },
     "execution_count": 106,
     "metadata": {},
     "output_type": "execute_result"
    }
   ],
   "source": [
    "len(set(Training_PID_positive))"
   ]
  },
  {
   "cell_type": "code",
   "execution_count": 107,
   "id": "662c7999",
   "metadata": {},
   "outputs": [
    {
     "data": {
      "text/plain": [
       "1638"
      ]
     },
     "execution_count": 107,
     "metadata": {},
     "output_type": "execute_result"
    }
   ],
   "source": [
    "len(set(Training_PID_Negative))"
   ]
  },
  {
   "cell_type": "code",
   "execution_count": 110,
   "id": "51d8de44",
   "metadata": {},
   "outputs": [],
   "source": [
    "total_1638_Training_Protein = list(set(Training_PID_positive).union(set(Training_PID_Negative)))"
   ]
  },
  {
   "cell_type": "code",
   "execution_count": 111,
   "id": "ed290c68",
   "metadata": {},
   "outputs": [],
   "source": [
    "import os\n",
    "os.chdir(\"/homes/t326h379/Nucleocytoplasmic_1638_Training_Protein\")\n",
    "with open(\"Nucleocytoplasmic_1638_Training_Protein.txt\",\"a+\") as Subash:\n",
    "    for value in total_1638_Training_Protein:\n",
    "        download_link = \"https://rest.uniprot.org/uniprotkb/\"+value+\".fasta\"\n",
    "        Subash.write(download_link+\"\\n\")    "
   ]
  },
  {
   "cell_type": "markdown",
   "id": "baa3f581",
   "metadata": {},
   "source": [
    "# Extract the 81 Positive Window of the Training Dataset from Training Proteins"
   ]
  },
  {
   "cell_type": "code",
   "execution_count": 124,
   "id": "4b268a9e",
   "metadata": {},
   "outputs": [],
   "source": [
    "import os \n",
    "os.chdir(\"/homes/t326h379/Nucleocytoplasmic_1638_Training_Protein\")\n",
    "\n",
    "import re\n",
    "from Bio import SeqIO\n",
    "\n",
    "import os \n",
    "window_size = 81\n",
    "\n",
    "def open_file_extract_window(pid,position):\n",
    "    position = int(position)-1\n",
    "    fasta_file = pid+\".fasta\"\n",
    "    with open(\"GlacNAC_81_window_Training_Positive.fasta\",\"a+\") as fp:\n",
    "        for seq_record in SeqIO.parse(fasta_file,\"fasta\"):\n",
    "            placeholder = seq_record.id.split(\"|\")[1]  \n",
    "            seq = str(seq_record.seq)\n",
    "            if placeholder == pid:\n",
    "                position = int(position)\n",
    "                if (seq[position] == \"S\" or seq[position] == \"T\"):\n",
    "                    half_window = window_size // 2\n",
    "\n",
    "                    C_terminal_calculation = len(seq) - position\n",
    "                   \n",
    "                   \n",
    "                    if len(seq) > 41 and len(seq) < 81:\n",
    "                        check_length_of_t_terminal = seq[position+1:]\n",
    "                        check_length_of_N_terminal = seq[:position]\n",
    "\n",
    "                        \n",
    "                        if len(check_length_of_t_terminal) < 41 and len(check_length_of_N_terminal) < 41:\n",
    "                            half_window_size = 40\n",
    "                            n_terminal_dummy_to_be_filled = half_window_size-len(check_length_of_N_terminal)\n",
    "                            fillerr=[]            \n",
    "                            for x in range(half_window_size):\n",
    "                                dummy=\"-\"\n",
    "                                fillerr.append(dummy)\n",
    "                            select = fillerr[0:int(n_terminal_dummy_to_be_filled)]\n",
    "                            nTer_adjust = ''.join(select)\n",
    "                            N_Terminal_needed_sequence = nTer_adjust+check_length_of_N_terminal\n",
    "                            \n",
    "                            t_terminal_dummy_to_be_filled = half_window_size-len(check_length_of_t_terminal)\n",
    "                            t_fill = []\n",
    "                            for x in range(half_window_size):\n",
    "                                dummy=\"-\"\n",
    "                                t_fill.append(dummy)\n",
    "                            t_select = t_fill[0:int(t_terminal_dummy_to_be_filled)]\n",
    "                            tTer_adjust = ''.join(t_select)\n",
    "                            TT_Terminal_needed_sequence = check_length_of_t_terminal+tTer_adjust\n",
    "                            \n",
    "                            final_window = N_Terminal_needed_sequence + seq[position] + TT_Terminal_needed_sequence\n",
    "                            fp.write(\">\")\n",
    "                            fp.write(pid)\n",
    "                            fp.write(\"|\")\n",
    "                            fp.write(str(position))\n",
    "                            fp.write(\"\\n\")\n",
    "                            fp.write(final_window)\n",
    "                            fp.write(\"\\n\")                           \n",
    "\n",
    "                        else:\n",
    "                            if position < 41:\n",
    "                                n_terminal_sequence = seq[:position+1]\n",
    "                                p_terminal_sequence = seq[position+1:41+position]\n",
    "                                needed_sequence = n_terminal_sequence+p_terminal_sequence\n",
    "                                dummy_to_be_filled = window_size - len(needed_sequence)\n",
    "\n",
    "                                fill=[]            \n",
    "                                for x in range(window_size):\n",
    "                                    dummy=\"-\"\n",
    "                                    fill.append(dummy)\n",
    "                                select = fill[0:int(dummy_to_be_filled)]\n",
    "                                nTer_adjust = ''.join(select)\n",
    "                                motif = nTer_adjust +needed_sequence\n",
    "                                fp.write(\">\")\n",
    "                                fp.write(pid)\n",
    "                                fp.write(\"|\")\n",
    "                                fp.write(str(position))\n",
    "                                fp.write(\"\\n\")\n",
    "                                fp.write(motif)\n",
    "                                fp.write(\"\\n\")  \n",
    "\n",
    "                            if position > 41 or position == 41:\n",
    "                                index_of_half_window_sequence = position-40\n",
    "                                n_terminal = seq[index_of_half_window_sequence:position]\n",
    "                                needed_sequence_we_need = n_terminal+seq[position:]\n",
    "\n",
    "                                dummy_to_be_filled = window_size - len(needed_sequence_we_need)\n",
    "\n",
    "                                fill=[]            \n",
    "                                for x in range(window_size):\n",
    "                                    dummy=\"-\"\n",
    "                                    fill.append(dummy)\n",
    "                                select = fill[0:int(dummy_to_be_filled)]\n",
    "                                tTer_adjust = ''.join(select)\n",
    "                                total_length = needed_sequence_we_need+tTer_adjust\n",
    "                                fp.write(\">\")\n",
    "                                fp.write(pid)\n",
    "                                fp.write(\"|\")\n",
    "                                fp.write(str(position))\n",
    "                                fp.write(\"\\n\")\n",
    "                                fp.write(total_length)  \n",
    "                                fp.write(\"\\n\")  \n",
    "\n",
    "\n",
    "                    if len(seq) > 82 or len(seq) == 82:\n",
    "                        if position < half_window:\n",
    "                            # N_terminal_pad\n",
    "                            dummy_to_be_filled = half_window - position\n",
    "                            fill=[]            \n",
    "                            for x in range(window_size):\n",
    "                                dummy=\"-\"\n",
    "                                fill.append(dummy)\n",
    "                            select = fill[0:int(dummy_to_be_filled)]\n",
    "                            N_terminal_truncated_motif = seq[0:position+half_window+1]\n",
    "                            nTer_adjust = ''.join(select)\n",
    "                            motif = nTer_adjust+N_terminal_truncated_motif\n",
    "                            fp.write(\">\")\n",
    "                            fp.write(pid)\n",
    "                            fp.write(\"|\")\n",
    "                            fp.write(str(position))\n",
    "                            fp.write(\"\\n\")\n",
    "                            fp.write(motif)\n",
    "                            fp.write(\"\\n\")\n",
    "\n",
    "                        if C_terminal_calculation < half_window:\n",
    "                            # C_terminal_pad\n",
    "                            C_terminal_motif = seq[position-40:]\n",
    "                            dummy_to_be_filled = window_size - len(C_terminal_motif)\n",
    "\n",
    "                            fill=[]            \n",
    "                            for x in range(window_size):\n",
    "                                dummy=\"-\"\n",
    "                                fill.append(dummy)\n",
    "                            select = fill[0:int(dummy_to_be_filled)]\n",
    "                            cTer_adjust = ''.join(select)\n",
    "                            motif = C_terminal_motif+cTer_adjust\n",
    "                            fp.write(\">\")\n",
    "                            fp.write(pid)\n",
    "                            fp.write(\"|\")\n",
    "                            fp.write(str(position))\n",
    "                            fp.write(\"\\n\")\n",
    "                            fp.write(motif)\n",
    "                            fp.write(\"\\n\")\n",
    "\n",
    "\n",
    "                        if len(seq[int(position)-half_window:int(position)+half_window+1]) == window_size:\n",
    "                            motif = seq[int(position)-40:int(position)+41]\n",
    "                            fp.write(\">\")\n",
    "                            fp.write(pid)\n",
    "                            fp.write(\"|\")\n",
    "                            fp.write(str(position))\n",
    "                            fp.write(\"\\n\")\n",
    "                            fp.write(motif)\n",
    "                            fp.write(\"\\n\")\n",
    "                            \n",
    "for i in range(len(Training_PID_positive)):\n",
    "    pid = Training_PID_positive[i]\n",
    "    position = Training_Position_position[i]\n",
    "    try:\n",
    "        open_file_extract_window(pid,position)\n",
    "    except:\n",
    "        pass"
   ]
  },
  {
   "cell_type": "code",
   "execution_count": 120,
   "id": "e247077e",
   "metadata": {},
   "outputs": [
    {
     "data": {
      "text/plain": [
       "(5724, 5724)"
      ]
     },
     "execution_count": 120,
     "metadata": {},
     "output_type": "execute_result"
    }
   ],
   "source": [
    "len(Training_PID_positive), len(Training_Position_position)"
   ]
  },
  {
   "cell_type": "code",
   "execution_count": 122,
   "id": "e9d0f3d5",
   "metadata": {},
   "outputs": [
    {
     "data": {
      "text/plain": [
       "['Q9UQE7', 'Q8IXF0', 'Q8N684', 'Q9Y6V0', 'Q14980']"
      ]
     },
     "execution_count": 122,
     "metadata": {},
     "output_type": "execute_result"
    }
   ],
   "source": [
    "Training_PID_positive[:5]"
   ]
  },
  {
   "cell_type": "code",
   "execution_count": 123,
   "id": "667f208b",
   "metadata": {},
   "outputs": [
    {
     "data": {
      "text/plain": [
       "[387, 817, 348, 2682, 2093]"
      ]
     },
     "execution_count": 123,
     "metadata": {},
     "output_type": "execute_result"
    }
   ],
   "source": [
    "Training_Position_position[:5]"
   ]
  },
  {
   "cell_type": "code",
   "execution_count": 125,
   "id": "176f6b57",
   "metadata": {},
   "outputs": [],
   "source": [
    "Training_Positive_81_window_Peptide_of_Nucleocytoplasmic_proteins = set()\n",
    "with open(\"GlacNAC_81_window_Training_Positive.fasta\") as fp:\n",
    "    for line in fp:\n",
    "        if line.startswith(\">\"):\n",
    "            pass\n",
    "        else:\n",
    "            x = line.strip(\"\\n\")\n",
    "            Training_Positive_81_window_Peptide_of_Nucleocytoplasmic_proteins.add(x)"
   ]
  },
  {
   "cell_type": "code",
   "execution_count": 127,
   "id": "4b6ff2c0",
   "metadata": {},
   "outputs": [
    {
     "data": {
      "text/plain": [
       "5707"
      ]
     },
     "execution_count": 127,
     "metadata": {},
     "output_type": "execute_result"
    }
   ],
   "source": [
    "len(Training_Positive_81_window_Peptide_of_Nucleocytoplasmic_proteins)"
   ]
  },
  {
   "cell_type": "code",
   "execution_count": 129,
   "id": "8716167c",
   "metadata": {},
   "outputs": [
    {
     "data": {
      "text/plain": [
       "['SCSPQKAQEANKARPSAWEPAAGNSPARASVPAAPNPAATSATSVHVRSPARPSESRLAPTPTEGKVRPRVTNSSPMGWSS',\n",
       " 'NLKAFVPAKRPIAARPSPGGVFTQFVMSKVGALQQKIPGVSTPQTLAGTQKFSIRPSPVMVVTPVVSSEPVQVCSPVTAAV',\n",
       " 'PLVNDDIHAPGTSKSSLSDSLVCISEKNLPGHSKNTPLAMSDVGKVHKKDNEINIGKIELIPSMLETGKTNKKDAELNILK',\n",
       " 'HLAYRMNMCSAGVARKAAEEVTLQTGIKRFVAGALGPTNKTLSVSPSVERPDYRNITFDELVEAYQEQAKGLLDGGVDILL',\n",
       " 'PDDTYRLSRLLLRLPALRLMNATITEELFFKGLIGNIRIDSVIPHILKMEPADYNSQIIGHSI------------------']"
      ]
     },
     "execution_count": 129,
     "metadata": {},
     "output_type": "execute_result"
    }
   ],
   "source": [
    "list(Training_Positive_81_window_Peptide_of_Nucleocytoplasmic_proteins)[:5]"
   ]
  },
  {
   "cell_type": "markdown",
   "id": "0374b841",
   "metadata": {},
   "source": [
    "# Extract the 81 Negative Window of the Training Dataset from Training Proteins"
   ]
  },
  {
   "cell_type": "code",
   "execution_count": 130,
   "id": "17899cf8",
   "metadata": {},
   "outputs": [
    {
     "data": {
      "text/plain": [
       "(232286, 232286)"
      ]
     },
     "execution_count": 130,
     "metadata": {},
     "output_type": "execute_result"
    }
   ],
   "source": [
    "len(Training_PID_Negative), len(Training_Position_Negative)"
   ]
  },
  {
   "cell_type": "code",
   "execution_count": 131,
   "id": "d4926de5",
   "metadata": {},
   "outputs": [
    {
     "data": {
      "text/plain": [
       "['Q6ZUM4', 'Q9ULT8', 'Q15648', 'Q96JG9', 'P31629']"
      ]
     },
     "execution_count": 131,
     "metadata": {},
     "output_type": "execute_result"
    }
   ],
   "source": [
    "Training_PID_Negative[:5]"
   ]
  },
  {
   "cell_type": "code",
   "execution_count": 132,
   "id": "f5e7518d",
   "metadata": {},
   "outputs": [
    {
     "data": {
      "text/plain": [
       "[273, 2572, 1440, 3055, 2298]"
      ]
     },
     "execution_count": 132,
     "metadata": {},
     "output_type": "execute_result"
    }
   ],
   "source": [
    "Training_Position_Negative[:5]"
   ]
  },
  {
   "cell_type": "code",
   "execution_count": 133,
   "id": "c146e6f7",
   "metadata": {},
   "outputs": [],
   "source": [
    "import os \n",
    "os.chdir(\"/homes/t326h379/Nucleocytoplasmic_1638_Training_Protein\")\n",
    "\n",
    "import re\n",
    "from Bio import SeqIO\n",
    "\n",
    "import os \n",
    "window_size = 81\n",
    "\n",
    "def open_file_extract_window(pid,position):\n",
    "    position = int(position)-1\n",
    "    fasta_file = pid+\".fasta\"\n",
    "    with open(\"GlacNAC_81_window_Training_Negative.fasta\",\"a+\") as fp:\n",
    "        for seq_record in SeqIO.parse(fasta_file,\"fasta\"):\n",
    "            placeholder = seq_record.id.split(\"|\")[1]  \n",
    "            seq = str(seq_record.seq)\n",
    "            if placeholder == pid:\n",
    "                position = int(position)\n",
    "                if (seq[position] == \"S\" or seq[position] == \"T\"):\n",
    "                    half_window = window_size // 2\n",
    "\n",
    "                    C_terminal_calculation = len(seq) - position\n",
    "                   \n",
    "                   \n",
    "                    if len(seq) > 41 and len(seq) < 81:\n",
    "                        check_length_of_t_terminal = seq[position+1:]\n",
    "                        check_length_of_N_terminal = seq[:position]\n",
    "\n",
    "                        \n",
    "                        if len(check_length_of_t_terminal) < 41 and len(check_length_of_N_terminal) < 41:\n",
    "                            half_window_size = 40\n",
    "                            n_terminal_dummy_to_be_filled = half_window_size-len(check_length_of_N_terminal)\n",
    "                            fillerr=[]            \n",
    "                            for x in range(half_window_size):\n",
    "                                dummy=\"-\"\n",
    "                                fillerr.append(dummy)\n",
    "                            select = fillerr[0:int(n_terminal_dummy_to_be_filled)]\n",
    "                            nTer_adjust = ''.join(select)\n",
    "                            N_Terminal_needed_sequence = nTer_adjust+check_length_of_N_terminal\n",
    "                            \n",
    "                            t_terminal_dummy_to_be_filled = half_window_size-len(check_length_of_t_terminal)\n",
    "                            t_fill = []\n",
    "                            for x in range(half_window_size):\n",
    "                                dummy=\"-\"\n",
    "                                t_fill.append(dummy)\n",
    "                            t_select = t_fill[0:int(t_terminal_dummy_to_be_filled)]\n",
    "                            tTer_adjust = ''.join(t_select)\n",
    "                            TT_Terminal_needed_sequence = check_length_of_t_terminal+tTer_adjust\n",
    "                            \n",
    "                            final_window = N_Terminal_needed_sequence + seq[position] + TT_Terminal_needed_sequence\n",
    "                            fp.write(\">\")\n",
    "                            fp.write(pid)\n",
    "                            fp.write(\"|\")\n",
    "                            fp.write(str(position))\n",
    "                            fp.write(\"\\n\")\n",
    "                            fp.write(final_window)\n",
    "                            fp.write(\"\\n\")                           \n",
    "\n",
    "                        else:\n",
    "                            if position < 41:\n",
    "                                n_terminal_sequence = seq[:position+1]\n",
    "                                p_terminal_sequence = seq[position+1:41+position]\n",
    "                                needed_sequence = n_terminal_sequence+p_terminal_sequence\n",
    "                                dummy_to_be_filled = window_size - len(needed_sequence)\n",
    "\n",
    "                                fill=[]            \n",
    "                                for x in range(window_size):\n",
    "                                    dummy=\"-\"\n",
    "                                    fill.append(dummy)\n",
    "                                select = fill[0:int(dummy_to_be_filled)]\n",
    "                                nTer_adjust = ''.join(select)\n",
    "                                motif = nTer_adjust +needed_sequence\n",
    "                                fp.write(\">\")\n",
    "                                fp.write(pid)\n",
    "                                fp.write(\"|\")\n",
    "                                fp.write(str(position))\n",
    "                                fp.write(\"\\n\")\n",
    "                                fp.write(motif)\n",
    "                                fp.write(\"\\n\")  \n",
    "\n",
    "                            if position > 41 or position == 41:\n",
    "                                index_of_half_window_sequence = position-40\n",
    "                                n_terminal = seq[index_of_half_window_sequence:position]\n",
    "                                needed_sequence_we_need = n_terminal+seq[position:]\n",
    "\n",
    "                                dummy_to_be_filled = window_size - len(needed_sequence_we_need)\n",
    "\n",
    "                                fill=[]            \n",
    "                                for x in range(window_size):\n",
    "                                    dummy=\"-\"\n",
    "                                    fill.append(dummy)\n",
    "                                select = fill[0:int(dummy_to_be_filled)]\n",
    "                                tTer_adjust = ''.join(select)\n",
    "                                total_length = needed_sequence_we_need+tTer_adjust\n",
    "                                fp.write(\">\")\n",
    "                                fp.write(pid)\n",
    "                                fp.write(\"|\")\n",
    "                                fp.write(str(position))\n",
    "                                fp.write(\"\\n\")\n",
    "                                fp.write(total_length)  \n",
    "                                fp.write(\"\\n\")  \n",
    "\n",
    "\n",
    "                    if len(seq) > 82 or len(seq) == 82:\n",
    "                        if position < half_window:\n",
    "                            # N_terminal_pad\n",
    "                            dummy_to_be_filled = half_window - position\n",
    "                            fill=[]            \n",
    "                            for x in range(window_size):\n",
    "                                dummy=\"-\"\n",
    "                                fill.append(dummy)\n",
    "                            select = fill[0:int(dummy_to_be_filled)]\n",
    "                            N_terminal_truncated_motif = seq[0:position+half_window+1]\n",
    "                            nTer_adjust = ''.join(select)\n",
    "                            motif = nTer_adjust+N_terminal_truncated_motif\n",
    "                            fp.write(\">\")\n",
    "                            fp.write(pid)\n",
    "                            fp.write(\"|\")\n",
    "                            fp.write(str(position))\n",
    "                            fp.write(\"\\n\")\n",
    "                            fp.write(motif)\n",
    "                            fp.write(\"\\n\")\n",
    "\n",
    "                        if C_terminal_calculation < half_window:\n",
    "                            # C_terminal_pad\n",
    "                            C_terminal_motif = seq[position-40:]\n",
    "                            dummy_to_be_filled = window_size - len(C_terminal_motif)\n",
    "\n",
    "                            fill=[]            \n",
    "                            for x in range(window_size):\n",
    "                                dummy=\"-\"\n",
    "                                fill.append(dummy)\n",
    "                            select = fill[0:int(dummy_to_be_filled)]\n",
    "                            cTer_adjust = ''.join(select)\n",
    "                            motif = C_terminal_motif+cTer_adjust\n",
    "                            fp.write(\">\")\n",
    "                            fp.write(pid)\n",
    "                            fp.write(\"|\")\n",
    "                            fp.write(str(position))\n",
    "                            fp.write(\"\\n\")\n",
    "                            fp.write(motif)\n",
    "                            fp.write(\"\\n\")\n",
    "\n",
    "\n",
    "                        if len(seq[int(position)-half_window:int(position)+half_window+1]) == window_size:\n",
    "                            motif = seq[int(position)-40:int(position)+41]\n",
    "                            fp.write(\">\")\n",
    "                            fp.write(pid)\n",
    "                            fp.write(\"|\")\n",
    "                            fp.write(str(position))\n",
    "                            fp.write(\"\\n\")\n",
    "                            fp.write(motif)\n",
    "                            fp.write(\"\\n\")\n",
    "                            \n",
    "for i in range(len(Training_PID_Negative)):\n",
    "    pid = Training_PID_Negative[i]\n",
    "    position = Training_Position_Negative[i]\n",
    "    try:\n",
    "        open_file_extract_window(pid,position)\n",
    "    except:\n",
    "        pass"
   ]
  },
  {
   "cell_type": "code",
   "execution_count": 142,
   "id": "a1c89696",
   "metadata": {},
   "outputs": [],
   "source": [
    "Training_Negative_81_window_Peptide_of_Nucleocytoplasmic_proteins = set()\n",
    "with open(\"GlacNAC_81_window_Training_Negative.fasta\") as fp:\n",
    "    for line in fp:\n",
    "        if line.startswith(\">\"):\n",
    "            pass\n",
    "        else:\n",
    "            x = line.strip(\"\\n\")\n",
    "            Training_Negative_81_window_Peptide_of_Nucleocytoplasmic_proteins.add(x)"
   ]
  },
  {
   "cell_type": "code",
   "execution_count": 143,
   "id": "5c5a0dd0",
   "metadata": {},
   "outputs": [
    {
     "data": {
      "text/plain": [
       "230275"
      ]
     },
     "execution_count": 143,
     "metadata": {},
     "output_type": "execute_result"
    }
   ],
   "source": [
    "len(Training_Negative_81_window_Peptide_of_Nucleocytoplasmic_proteins)"
   ]
  },
  {
   "cell_type": "markdown",
   "id": "8f9c87f9",
   "metadata": {},
   "source": [
    "# Lets check the peptide identity between the independent test positive and negative dataset"
   ]
  },
  {
   "cell_type": "code",
   "execution_count": 148,
   "id": "45019086",
   "metadata": {},
   "outputs": [
    {
     "data": {
      "text/plain": [
       "set()"
      ]
     },
     "execution_count": 148,
     "metadata": {},
     "output_type": "execute_result"
    }
   ],
   "source": [
    "Training_Negative_81_window_Peptide_of_Nucleocytoplasmic_proteins.intersection(Training_Positive_81_window_Peptide_of_Nucleocytoplasmic_proteins)"
   ]
  },
  {
   "cell_type": "markdown",
   "id": "5c6b7490",
   "metadata": {},
   "source": [
    "# Hurray (Oompa-Loompa) there are no peptide similarity withing test dataset"
   ]
  },
  {
   "cell_type": "code",
   "execution_count": 145,
   "id": "18231a51",
   "metadata": {},
   "outputs": [],
   "source": [
    "Total_Training_Site = Training_Negative_81_window_Peptide_of_Nucleocytoplasmic_proteins.union(Training_Positive_81_window_Peptide_of_Nucleocytoplasmic_proteins)"
   ]
  },
  {
   "cell_type": "code",
   "execution_count": 146,
   "id": "c52056af",
   "metadata": {},
   "outputs": [],
   "source": [
    "Total_Independent_Testing_Site = Testing_Independent_Positive_81_window_Peptide_of_Nucleocytoplasmic_proteins.union(Testing_Independent_Negative_81_window_Peptide_of_Nucleocytoplasmic_proteins)"
   ]
  },
  {
   "cell_type": "markdown",
   "id": "c6d289dc",
   "metadata": {},
   "source": [
    "# Lets check the peptide similarity between the independent test and training peptides"
   ]
  },
  {
   "cell_type": "code",
   "execution_count": 149,
   "id": "c2724e4d",
   "metadata": {},
   "outputs": [
    {
     "data": {
      "text/plain": [
       "set()"
      ]
     },
     "execution_count": 149,
     "metadata": {},
     "output_type": "execute_result"
    }
   ],
   "source": [
    "Total_Training_Site.intersection(Total_Independent_Testing_Site)"
   ]
  },
  {
   "cell_type": "markdown",
   "id": "a77ccfbb",
   "metadata": {},
   "source": [
    "# No peptides are similar between the independent and training dataset"
   ]
  },
  {
   "cell_type": "code",
   "execution_count": null,
   "id": "21521873",
   "metadata": {},
   "outputs": [],
   "source": []
  }
 ],
 "metadata": {
  "kernelspec": {
   "display_name": "Python 3.10.4-TensorFlow-2.11.0 [jupyter_python]",
   "language": "python",
   "name": "sys_python_3.10.4-tensorflow-2.11.0"
  },
  "language_info": {
   "codemirror_mode": {
    "name": "ipython",
    "version": 3
   },
   "file_extension": ".py",
   "mimetype": "text/x-python",
   "name": "python",
   "nbconvert_exporter": "python",
   "pygments_lexer": "ipython3",
   "version": "3.10.4"
  }
 },
 "nbformat": 4,
 "nbformat_minor": 5
}
