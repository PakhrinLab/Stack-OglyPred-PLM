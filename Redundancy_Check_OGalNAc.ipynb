{
 "cells": [
  {
   "cell_type": "code",
   "execution_count": 1,
   "id": "3b7a40d9",
   "metadata": {},
   "outputs": [
    {
     "name": "stderr",
     "output_type": "stream",
     "text": [
      "2024-09-07 21:38:33.996455: I tensorflow/core/util/port.cc:104] oneDNN custom operations are on. You may see slightly different numerical results due to floating-point round-off errors from different computation orders. To turn them off, set the environment variable `TF_ENABLE_ONEDNN_OPTS=0`.\n"
     ]
    }
   ],
   "source": [
    "import os\n",
    "import pandas as pd\n",
    "import numpy as np\n",
    "import random\n",
    "import tensorflow as tf\n",
    "from sklearn.metrics import confusion_matrix, matthews_corrcoef, accuracy_score, roc_auc_score, classification_report"
   ]
  },
  {
   "cell_type": "code",
   "execution_count": 2,
   "id": "5aad569a",
   "metadata": {},
   "outputs": [],
   "source": [
    "os.chdir(\"/homes/t326h379/OGalNAc/Ankh_154_Proteins\")\n",
    "\n",
    "Training_Protein = []\n",
    "with open(\"One_hundred_Thirty_Seven_Training_Proteins_OGalNAc.txt\") as Subash:\n",
    "    for line in Subash:\n",
    "        Training_Protein.append(line.strip(\"\\n\"))"
   ]
  },
  {
   "cell_type": "code",
   "execution_count": 3,
   "id": "3325271d",
   "metadata": {},
   "outputs": [],
   "source": [
    "os.chdir(\"/home/t326h379/OGalNAc\")\n",
    "\n",
    "df_positive_positive = pd.read_csv('Positive_OGalNAc_ProtT5_Positive_Features_vectors_1837_Net_O_Glyc_4.txt',header=None)              \n",
    "df_negative_negative = pd.read_csv('Negative_OGalNAc_ProtT5_Negative_Features_vectors_59414_Net_O_Glyc_4.txt',header=None)  \n",
    "\n",
    "Header_name = [\"Position\",\"PID\",\"S_or_T\"]+[i for i in range(1,1025)]\n",
    "df_positive_positive.columns = Header_name\n",
    "df_negative_negative.columns = Header_name\n",
    "\n",
    "df_positive = df_positive_positive[df_positive_positive['PID'].isin(Training_Protein)]\n",
    "df_negative = df_negative_negative[df_negative_negative['PID'].isin(Training_Protein)]\n",
    "\n",
    "df_positive_only_feature_vector = df_positive.drop([\"Position\",\"PID\",\"S_or_T\"],axis=1)\n",
    "df_positive_only_fv = np.array(df_positive_only_feature_vector)\n",
    "\n",
    "df_negative_only_feature_vector = df_negative.drop([\"Position\",\"PID\",\"S_or_T\"],axis=1)\n",
    "df_negative_only_fv = np.array(df_negative_only_feature_vector)\n",
    "\n",
    "X_train_full_ProtT5 = np.vstack((df_positive_only_fv,df_negative_only_fv))\n",
    "\n",
    "y_train_full_ProtT5 = [1]*df_positive_only_fv.shape[0]+[0]*df_negative_only_fv.shape[0]\n",
    "\n",
    "y_train_full_ProtT5 = np.array(y_train_full_ProtT5)"
   ]
  },
  {
   "cell_type": "markdown",
   "id": "c02e529b",
   "metadata": {},
   "source": [
    "# No Redundancy Found within training dataset"
   ]
  },
  {
   "cell_type": "code",
   "execution_count": 4,
   "id": "93cc6587",
   "metadata": {},
   "outputs": [],
   "source": [
    "Positive_PID = list(df_positive[\"PID\"])\n",
    "Positive_Site = list(df_positive[\"Position\"])\n",
    "\n",
    "Negative_Training_PID = list(df_negative[\"PID\"])\n",
    "Negative_Site_PID = list(df_negative[\"Position\"])"
   ]
  },
  {
   "cell_type": "code",
   "execution_count": 34,
   "id": "851c2a40",
   "metadata": {},
   "outputs": [
    {
     "data": {
      "text/plain": [
       "(582, 582)"
      ]
     },
     "execution_count": 34,
     "metadata": {},
     "output_type": "execute_result"
    }
   ],
   "source": [
    "len(Positive_PID), len(Positive_Site)"
   ]
  },
  {
   "cell_type": "code",
   "execution_count": 37,
   "id": "05aa7b4b",
   "metadata": {},
   "outputs": [
    {
     "data": {
      "text/plain": [
       "(15831, 15831)"
      ]
     },
     "execution_count": 37,
     "metadata": {},
     "output_type": "execute_result"
    }
   ],
   "source": [
    "len(Negative_Training_PID), len(Negative_Site_PID)"
   ]
  },
  {
   "cell_type": "code",
   "execution_count": 5,
   "id": "01982552",
   "metadata": {},
   "outputs": [],
   "source": [
    "Positive_PID_Sites_Tuple = set()\n",
    "for i in range(len(Positive_PID)):\n",
    "    Values_in_tuples = (Positive_PID[i],Positive_Site[i])\n",
    "    Positive_PID_Sites_Tuple.add(Values_in_tuples)    "
   ]
  },
  {
   "cell_type": "code",
   "execution_count": 6,
   "id": "e225ff24",
   "metadata": {},
   "outputs": [],
   "source": [
    "Negative_PID_Sites_Tuple = set()\n",
    "for i in range(len(Negative_Training_PID)):\n",
    "    Values_in_negative_tuples = (Negative_Training_PID[i],Negative_Site_PID[i])\n",
    "    Negative_PID_Sites_Tuple.add(Values_in_negative_tuples)    "
   ]
  },
  {
   "cell_type": "code",
   "execution_count": 7,
   "id": "ccc5c581",
   "metadata": {},
   "outputs": [
    {
     "data": {
      "text/plain": [
       "set()"
      ]
     },
     "execution_count": 7,
     "metadata": {},
     "output_type": "execute_result"
    }
   ],
   "source": [
    "Positive_PID_Sites_Tuple.intersection(Negative_PID_Sites_Tuple)"
   ]
  },
  {
   "cell_type": "code",
   "execution_count": 8,
   "id": "d27cf749",
   "metadata": {},
   "outputs": [],
   "source": [
    "Total_Training_Dataset = Positive_PID_Sites_Tuple.union(Negative_PID_Sites_Tuple)"
   ]
  },
  {
   "cell_type": "code",
   "execution_count": 9,
   "id": "6a3c1b62",
   "metadata": {},
   "outputs": [],
   "source": [
    "Training_Protein = set()\n",
    "for value in Total_Training_Dataset:\n",
    "    Training_Protein.add(value[0])"
   ]
  },
  {
   "cell_type": "code",
   "execution_count": 10,
   "id": "2f1fe2ef",
   "metadata": {},
   "outputs": [
    {
     "data": {
      "text/plain": [
       "137"
      ]
     },
     "execution_count": 10,
     "metadata": {},
     "output_type": "execute_result"
    }
   ],
   "source": [
    "len(Training_Protein)"
   ]
  },
  {
   "cell_type": "code",
   "execution_count": 11,
   "id": "eedb8217",
   "metadata": {},
   "outputs": [
    {
     "name": "stdout",
     "output_type": "stream",
     "text": [
      "(2071, 1024) (2071,)\n"
     ]
    }
   ],
   "source": [
    "import numpy as np\n",
    "os.chdir(\"/home/t326h379/OGalNAc\")\n",
    "\n",
    "df_positive_positive = pd.read_csv('Positive_OGalNAc_ProtT5_Positive_Features_vectors_1837_Net_O_Glyc_4.txt',header=None)              \n",
    "df_negative_negative = pd.read_csv('Negative_OGalNAc_ProtT5_Negative_Features_vectors_59414_Net_O_Glyc_4.txt',header=None)  \n",
    "\n",
    "\n",
    "list_loaded_set = []\n",
    "with open(\"Seventenn_INdependent_Proteins_OGalNAc.txt\") as Iphone:\n",
    "    for line in Iphone:\n",
    "        list_loaded_set.append(line.strip(\"\\n\"))\n",
    "\n",
    "\n",
    "Remaining_Testing_Protein = list_loaded_set\n",
    "\n",
    "Header_name = [\"Position\",\"PID\",\"S_or_T\"]+[i for i in range(1,1025)]\n",
    "df_positive_positive.columns = Header_name\n",
    "df_negative_negative.columns = Header_name\n",
    "\n",
    "# Testing Protein and Site Selection\n",
    "\n",
    "df_positive_testing = df_positive_positive[df_positive_positive['PID'].isin(Remaining_Testing_Protein)]\n",
    "df_negative_testing = df_negative_negative[df_negative_negative['PID'].isin(Remaining_Testing_Protein)]\n",
    "\n",
    "df_negative_only_test_feature_vector = df_negative_testing.drop([\"Position\",\"PID\",\"S_or_T\"],axis=1)\n",
    "df_negative_only_fv_test = np.array(df_negative_only_test_feature_vector)\n",
    "\n",
    "df_positive_only_test_feature_vector = df_positive_testing.drop([\"Position\",\"PID\",\"S_or_T\"],axis=1)\n",
    "df_positive_only_fv_test = np.array(df_positive_only_test_feature_vector)\n",
    "\n",
    "X_test_full = np.vstack((df_positive_only_fv_test,df_negative_only_fv_test))\n",
    "y_test_full = np.array([1]*df_positive_only_fv_test.shape[0]+[0]*df_negative_only_fv_test.shape[0])\n",
    "\n",
    "print(X_test_full.shape, y_test_full.shape)\n",
    "\n",
    "X_independent_ProtT5 = X_test_full\n",
    "\n",
    "y_independent_ProtT5 = y_test_full"
   ]
  },
  {
   "cell_type": "markdown",
   "id": "70840c9b",
   "metadata": {},
   "source": [
    "# Redundancy within Independent Test Dataset"
   ]
  },
  {
   "cell_type": "code",
   "execution_count": 12,
   "id": "345d130b",
   "metadata": {},
   "outputs": [],
   "source": [
    "df_positive_testing_Protein_list = list(df_positive_testing[\"PID\"])\n",
    "df_positive_testing_Position_list = list(df_positive_testing[\"Position\"])"
   ]
  },
  {
   "cell_type": "code",
   "execution_count": 13,
   "id": "e3bbd2fe",
   "metadata": {},
   "outputs": [],
   "source": [
    "Independent_testing_Postive_List = set()\n",
    "for i in range(len(df_positive_testing_Protein_list)):\n",
    "    Values_in_the_tuple = (df_positive_testing_Protein_list[i],df_positive_testing_Position_list[i])\n",
    "    Independent_testing_Postive_List.add(Values_in_the_tuple)"
   ]
  },
  {
   "cell_type": "code",
   "execution_count": 14,
   "id": "c18b739b",
   "metadata": {},
   "outputs": [],
   "source": [
    "df_negative_testing_Protein_list = list(df_negative_testing[\"PID\"])\n",
    "df_negative_testing_Position_list = list(df_negative_testing[\"Position\"])"
   ]
  },
  {
   "cell_type": "code",
   "execution_count": 15,
   "id": "abe52b44",
   "metadata": {},
   "outputs": [],
   "source": [
    "Independent_testing_Negative_List = set()\n",
    "for i in range(len(df_negative_testing_Protein_list)):\n",
    "    Values_in_the_tuple = (df_negative_testing_Protein_list[i],df_negative_testing_Position_list[i])\n",
    "    Independent_testing_Negative_List.add(Values_in_the_tuple)"
   ]
  },
  {
   "cell_type": "code",
   "execution_count": 16,
   "id": "88e4ffed",
   "metadata": {},
   "outputs": [
    {
     "data": {
      "text/plain": [
       "set()"
      ]
     },
     "execution_count": 16,
     "metadata": {},
     "output_type": "execute_result"
    }
   ],
   "source": [
    "Independent_testing_Postive_List.intersection(Independent_testing_Negative_List)"
   ]
  },
  {
   "cell_type": "code",
   "execution_count": 17,
   "id": "d27a7130",
   "metadata": {},
   "outputs": [],
   "source": [
    "Total_Independent_Test_Dataset = Independent_testing_Postive_List.union(Independent_testing_Negative_List)"
   ]
  },
  {
   "cell_type": "code",
   "execution_count": 18,
   "id": "6c3610cb",
   "metadata": {},
   "outputs": [],
   "source": [
    "Independent_Protein = set()\n",
    "for value in Total_Independent_Test_Dataset:\n",
    "    Independent_Protein.add(value[0])"
   ]
  },
  {
   "cell_type": "code",
   "execution_count": 19,
   "id": "ebb51c61",
   "metadata": {},
   "outputs": [
    {
     "data": {
      "text/plain": [
       "17"
      ]
     },
     "execution_count": 19,
     "metadata": {},
     "output_type": "execute_result"
    }
   ],
   "source": [
    "len(Independent_Protein)"
   ]
  },
  {
   "cell_type": "markdown",
   "id": "a90d6abf",
   "metadata": {},
   "source": [
    "# Redundancy between Training and Independent Test Dataset"
   ]
  },
  {
   "cell_type": "code",
   "execution_count": 20,
   "id": "8922bf07",
   "metadata": {},
   "outputs": [
    {
     "data": {
      "text/plain": [
       "0"
      ]
     },
     "execution_count": 20,
     "metadata": {},
     "output_type": "execute_result"
    }
   ],
   "source": [
    "len(Total_Independent_Test_Dataset.intersection(Total_Training_Dataset))"
   ]
  },
  {
   "cell_type": "code",
   "execution_count": 21,
   "id": "275d7ca8",
   "metadata": {},
   "outputs": [
    {
     "data": {
      "text/plain": [
       "2071"
      ]
     },
     "execution_count": 21,
     "metadata": {},
     "output_type": "execute_result"
    }
   ],
   "source": [
    "len(Total_Independent_Test_Dataset)"
   ]
  },
  {
   "cell_type": "code",
   "execution_count": 22,
   "id": "ba55e91c",
   "metadata": {},
   "outputs": [
    {
     "data": {
      "text/plain": [
       "16413"
      ]
     },
     "execution_count": 22,
     "metadata": {},
     "output_type": "execute_result"
    }
   ],
   "source": [
    "len(Total_Training_Dataset)"
   ]
  },
  {
   "cell_type": "code",
   "execution_count": 23,
   "id": "5efe70f2",
   "metadata": {},
   "outputs": [
    {
     "data": {
      "text/plain": [
       "17"
      ]
     },
     "execution_count": 23,
     "metadata": {},
     "output_type": "execute_result"
    }
   ],
   "source": [
    "len(Remaining_Testing_Protein)"
   ]
  },
  {
   "cell_type": "code",
   "execution_count": 24,
   "id": "406091d2",
   "metadata": {},
   "outputs": [
    {
     "data": {
      "text/plain": [
       "137"
      ]
     },
     "execution_count": 24,
     "metadata": {},
     "output_type": "execute_result"
    }
   ],
   "source": [
    "len(Training_Protein)"
   ]
  },
  {
   "cell_type": "code",
   "execution_count": 25,
   "id": "db7ca65d",
   "metadata": {},
   "outputs": [
    {
     "data": {
      "text/plain": [
       "set()"
      ]
     },
     "execution_count": 25,
     "metadata": {},
     "output_type": "execute_result"
    }
   ],
   "source": [
    "set(Remaining_Testing_Protein).intersection(set(Training_Protein))"
   ]
  },
  {
   "cell_type": "markdown",
   "id": "0a1757d9",
   "metadata": {},
   "source": [
    "# Extract the 81 Positive Window of the Training Dataset from Training Proteins"
   ]
  },
  {
   "cell_type": "code",
   "execution_count": 39,
   "id": "c834e5ac",
   "metadata": {},
   "outputs": [],
   "source": [
    "import os \n",
    "os.chdir(\"/homes/t326h379/OGALNAC_TRAINING\")\n",
    "\n",
    "import re\n",
    "from Bio import SeqIO\n",
    "\n",
    "import os \n",
    "window_size = 81\n",
    "\n",
    "def open_file_extract_window(pid,position):\n",
    "    position = int(position)-1\n",
    "    fasta_file = pid+\".fasta\"\n",
    "    with open(\"OGalNAc_81_window_Training_Positive.fasta\",\"a+\") as fp:\n",
    "        for seq_record in SeqIO.parse(fasta_file,\"fasta\"):\n",
    "            placeholder = seq_record.id.split(\"|\")[1]  \n",
    "            seq = str(seq_record.seq)\n",
    "            if placeholder == pid:\n",
    "                position = int(position)\n",
    "                if (seq[position] == \"S\" or seq[position] == \"T\"):\n",
    "                    half_window = window_size // 2\n",
    "\n",
    "                    C_terminal_calculation = len(seq) - position\n",
    "                   \n",
    "                   \n",
    "                    if len(seq) > 41 and len(seq) < 81:\n",
    "                        check_length_of_t_terminal = seq[position+1:]\n",
    "                        check_length_of_N_terminal = seq[:position]\n",
    "\n",
    "                        \n",
    "                        if len(check_length_of_t_terminal) < 41 and len(check_length_of_N_terminal) < 41:\n",
    "                            half_window_size = 40\n",
    "                            n_terminal_dummy_to_be_filled = half_window_size-len(check_length_of_N_terminal)\n",
    "                            fillerr=[]            \n",
    "                            for x in range(half_window_size):\n",
    "                                dummy=\"-\"\n",
    "                                fillerr.append(dummy)\n",
    "                            select = fillerr[0:int(n_terminal_dummy_to_be_filled)]\n",
    "                            nTer_adjust = ''.join(select)\n",
    "                            N_Terminal_needed_sequence = nTer_adjust+check_length_of_N_terminal\n",
    "                            \n",
    "                            t_terminal_dummy_to_be_filled = half_window_size-len(check_length_of_t_terminal)\n",
    "                            t_fill = []\n",
    "                            for x in range(half_window_size):\n",
    "                                dummy=\"-\"\n",
    "                                t_fill.append(dummy)\n",
    "                            t_select = t_fill[0:int(t_terminal_dummy_to_be_filled)]\n",
    "                            tTer_adjust = ''.join(t_select)\n",
    "                            TT_Terminal_needed_sequence = check_length_of_t_terminal+tTer_adjust\n",
    "                            \n",
    "                            final_window = N_Terminal_needed_sequence + seq[position] + TT_Terminal_needed_sequence\n",
    "                            fp.write(\">\")\n",
    "                            fp.write(pid)\n",
    "                            fp.write(\"|\")\n",
    "                            fp.write(str(position))\n",
    "                            fp.write(\"\\n\")\n",
    "                            fp.write(final_window)\n",
    "                            fp.write(\"\\n\")                           \n",
    "\n",
    "                        else:\n",
    "                            if position < 41:\n",
    "                                n_terminal_sequence = seq[:position+1]\n",
    "                                p_terminal_sequence = seq[position+1:41+position]\n",
    "                                needed_sequence = n_terminal_sequence+p_terminal_sequence\n",
    "                                dummy_to_be_filled = window_size - len(needed_sequence)\n",
    "\n",
    "                                fill=[]            \n",
    "                                for x in range(window_size):\n",
    "                                    dummy=\"-\"\n",
    "                                    fill.append(dummy)\n",
    "                                select = fill[0:int(dummy_to_be_filled)]\n",
    "                                nTer_adjust = ''.join(select)\n",
    "                                motif = nTer_adjust +needed_sequence\n",
    "                                fp.write(\">\")\n",
    "                                fp.write(pid)\n",
    "                                fp.write(\"|\")\n",
    "                                fp.write(str(position))\n",
    "                                fp.write(\"\\n\")\n",
    "                                fp.write(motif)\n",
    "                                fp.write(\"\\n\")  \n",
    "\n",
    "                            if position > 41 or position == 41:\n",
    "                                index_of_half_window_sequence = position-40\n",
    "                                n_terminal = seq[index_of_half_window_sequence:position]\n",
    "                                needed_sequence_we_need = n_terminal+seq[position:]\n",
    "\n",
    "                                dummy_to_be_filled = window_size - len(needed_sequence_we_need)\n",
    "\n",
    "                                fill=[]            \n",
    "                                for x in range(window_size):\n",
    "                                    dummy=\"-\"\n",
    "                                    fill.append(dummy)\n",
    "                                select = fill[0:int(dummy_to_be_filled)]\n",
    "                                tTer_adjust = ''.join(select)\n",
    "                                total_length = needed_sequence_we_need+tTer_adjust\n",
    "                                fp.write(\">\")\n",
    "                                fp.write(pid)\n",
    "                                fp.write(\"|\")\n",
    "                                fp.write(str(position))\n",
    "                                fp.write(\"\\n\")\n",
    "                                fp.write(total_length)  \n",
    "                                fp.write(\"\\n\")  \n",
    "\n",
    "\n",
    "                    if len(seq) > 82 or len(seq) == 82:\n",
    "                        if position < half_window:\n",
    "                            # N_terminal_pad\n",
    "                            dummy_to_be_filled = half_window - position\n",
    "                            fill=[]            \n",
    "                            for x in range(window_size):\n",
    "                                dummy=\"-\"\n",
    "                                fill.append(dummy)\n",
    "                            select = fill[0:int(dummy_to_be_filled)]\n",
    "                            N_terminal_truncated_motif = seq[0:position+half_window+1]\n",
    "                            nTer_adjust = ''.join(select)\n",
    "                            motif = nTer_adjust+N_terminal_truncated_motif\n",
    "                            fp.write(\">\")\n",
    "                            fp.write(pid)\n",
    "                            fp.write(\"|\")\n",
    "                            fp.write(str(position))\n",
    "                            fp.write(\"\\n\")\n",
    "                            fp.write(motif)\n",
    "                            fp.write(\"\\n\")\n",
    "\n",
    "                        if C_terminal_calculation < half_window:\n",
    "                            # C_terminal_pad\n",
    "                            C_terminal_motif = seq[position-40:]\n",
    "                            dummy_to_be_filled = window_size - len(C_terminal_motif)\n",
    "\n",
    "                            fill=[]            \n",
    "                            for x in range(window_size):\n",
    "                                dummy=\"-\"\n",
    "                                fill.append(dummy)\n",
    "                            select = fill[0:int(dummy_to_be_filled)]\n",
    "                            cTer_adjust = ''.join(select)\n",
    "                            motif = C_terminal_motif+cTer_adjust\n",
    "                            fp.write(\">\")\n",
    "                            fp.write(pid)\n",
    "                            fp.write(\"|\")\n",
    "                            fp.write(str(position))\n",
    "                            fp.write(\"\\n\")\n",
    "                            fp.write(motif)\n",
    "                            fp.write(\"\\n\")\n",
    "\n",
    "\n",
    "                        if len(seq[int(position)-half_window:int(position)+half_window+1]) == window_size:\n",
    "                            motif = seq[int(position)-40:int(position)+41]\n",
    "                            fp.write(\">\")\n",
    "                            fp.write(pid)\n",
    "                            fp.write(\"|\")\n",
    "                            fp.write(str(position))\n",
    "                            fp.write(\"\\n\")\n",
    "                            fp.write(motif)\n",
    "                            fp.write(\"\\n\")\n",
    "                            \n",
    "for i in range(len(Positive_PID)):\n",
    "    pid = Positive_PID[i]\n",
    "    position = Positive_Site[i]\n",
    "    try:\n",
    "        open_file_extract_window(pid,position)\n",
    "    except:\n",
    "        pass"
   ]
  },
  {
   "cell_type": "markdown",
   "id": "f9c44ebb",
   "metadata": {},
   "source": [
    "# Extract the 81 Negative Window of the Training Dataset from Training Proteins"
   ]
  },
  {
   "cell_type": "code",
   "execution_count": 38,
   "id": "a86975b5",
   "metadata": {},
   "outputs": [],
   "source": [
    "import os \n",
    "os.chdir(\"/homes/t326h379/OGALNAC_TRAINING\")\n",
    "\n",
    "import re\n",
    "from Bio import SeqIO\n",
    "\n",
    "import os \n",
    "window_size = 81\n",
    "\n",
    "def open_file_extract_window(pid,position):\n",
    "    position = int(position)-1\n",
    "    fasta_file = pid+\".fasta\"\n",
    "    with open(\"OGalNAc_81_window_Training_Negative.fasta\",\"a+\") as fp:\n",
    "        for seq_record in SeqIO.parse(fasta_file,\"fasta\"):\n",
    "            placeholder = seq_record.id.split(\"|\")[1]  \n",
    "            seq = str(seq_record.seq)\n",
    "            if placeholder == pid:\n",
    "                position = int(position)\n",
    "                if (seq[position] == \"S\" or seq[position] == \"T\"):\n",
    "                    half_window = window_size // 2\n",
    "\n",
    "                    C_terminal_calculation = len(seq) - position\n",
    "                   \n",
    "                   \n",
    "                    if len(seq) > 41 and len(seq) < 81:\n",
    "                        check_length_of_t_terminal = seq[position+1:]\n",
    "                        check_length_of_N_terminal = seq[:position]\n",
    "\n",
    "                        \n",
    "                        if len(check_length_of_t_terminal) < 41 and len(check_length_of_N_terminal) < 41:\n",
    "                            half_window_size = 40\n",
    "                            n_terminal_dummy_to_be_filled = half_window_size-len(check_length_of_N_terminal)\n",
    "                            fillerr=[]            \n",
    "                            for x in range(half_window_size):\n",
    "                                dummy=\"-\"\n",
    "                                fillerr.append(dummy)\n",
    "                            select = fillerr[0:int(n_terminal_dummy_to_be_filled)]\n",
    "                            nTer_adjust = ''.join(select)\n",
    "                            N_Terminal_needed_sequence = nTer_adjust+check_length_of_N_terminal\n",
    "                            \n",
    "                            t_terminal_dummy_to_be_filled = half_window_size-len(check_length_of_t_terminal)\n",
    "                            t_fill = []\n",
    "                            for x in range(half_window_size):\n",
    "                                dummy=\"-\"\n",
    "                                t_fill.append(dummy)\n",
    "                            t_select = t_fill[0:int(t_terminal_dummy_to_be_filled)]\n",
    "                            tTer_adjust = ''.join(t_select)\n",
    "                            TT_Terminal_needed_sequence = check_length_of_t_terminal+tTer_adjust\n",
    "                            \n",
    "                            final_window = N_Terminal_needed_sequence + seq[position] + TT_Terminal_needed_sequence\n",
    "                            fp.write(\">\")\n",
    "                            fp.write(pid)\n",
    "                            fp.write(\"|\")\n",
    "                            fp.write(str(position))\n",
    "                            fp.write(\"\\n\")\n",
    "                            fp.write(final_window)\n",
    "                            fp.write(\"\\n\")                           \n",
    "\n",
    "                        else:\n",
    "                            if position < 41:\n",
    "                                n_terminal_sequence = seq[:position+1]\n",
    "                                p_terminal_sequence = seq[position+1:41+position]\n",
    "                                needed_sequence = n_terminal_sequence+p_terminal_sequence\n",
    "                                dummy_to_be_filled = window_size - len(needed_sequence)\n",
    "\n",
    "                                fill=[]            \n",
    "                                for x in range(window_size):\n",
    "                                    dummy=\"-\"\n",
    "                                    fill.append(dummy)\n",
    "                                select = fill[0:int(dummy_to_be_filled)]\n",
    "                                nTer_adjust = ''.join(select)\n",
    "                                motif = nTer_adjust +needed_sequence\n",
    "                                fp.write(\">\")\n",
    "                                fp.write(pid)\n",
    "                                fp.write(\"|\")\n",
    "                                fp.write(str(position))\n",
    "                                fp.write(\"\\n\")\n",
    "                                fp.write(motif)\n",
    "                                fp.write(\"\\n\")  \n",
    "\n",
    "                            if position > 41 or position == 41:\n",
    "                                index_of_half_window_sequence = position-40\n",
    "                                n_terminal = seq[index_of_half_window_sequence:position]\n",
    "                                needed_sequence_we_need = n_terminal+seq[position:]\n",
    "\n",
    "                                dummy_to_be_filled = window_size - len(needed_sequence_we_need)\n",
    "\n",
    "                                fill=[]            \n",
    "                                for x in range(window_size):\n",
    "                                    dummy=\"-\"\n",
    "                                    fill.append(dummy)\n",
    "                                select = fill[0:int(dummy_to_be_filled)]\n",
    "                                tTer_adjust = ''.join(select)\n",
    "                                total_length = needed_sequence_we_need+tTer_adjust\n",
    "                                fp.write(\">\")\n",
    "                                fp.write(pid)\n",
    "                                fp.write(\"|\")\n",
    "                                fp.write(str(position))\n",
    "                                fp.write(\"\\n\")\n",
    "                                fp.write(total_length)  \n",
    "                                fp.write(\"\\n\")  \n",
    "\n",
    "\n",
    "                    if len(seq) > 82 or len(seq) == 82:\n",
    "                        if position < half_window:\n",
    "                            # N_terminal_pad\n",
    "                            dummy_to_be_filled = half_window - position\n",
    "                            fill=[]            \n",
    "                            for x in range(window_size):\n",
    "                                dummy=\"-\"\n",
    "                                fill.append(dummy)\n",
    "                            select = fill[0:int(dummy_to_be_filled)]\n",
    "                            N_terminal_truncated_motif = seq[0:position+half_window+1]\n",
    "                            nTer_adjust = ''.join(select)\n",
    "                            motif = nTer_adjust+N_terminal_truncated_motif\n",
    "                            fp.write(\">\")\n",
    "                            fp.write(pid)\n",
    "                            fp.write(\"|\")\n",
    "                            fp.write(str(position))\n",
    "                            fp.write(\"\\n\")\n",
    "                            fp.write(motif)\n",
    "                            fp.write(\"\\n\")\n",
    "\n",
    "                        if C_terminal_calculation < half_window:\n",
    "                            # C_terminal_pad\n",
    "                            C_terminal_motif = seq[position-40:]\n",
    "                            dummy_to_be_filled = window_size - len(C_terminal_motif)\n",
    "\n",
    "                            fill=[]            \n",
    "                            for x in range(window_size):\n",
    "                                dummy=\"-\"\n",
    "                                fill.append(dummy)\n",
    "                            select = fill[0:int(dummy_to_be_filled)]\n",
    "                            cTer_adjust = ''.join(select)\n",
    "                            motif = C_terminal_motif+cTer_adjust\n",
    "                            fp.write(\">\")\n",
    "                            fp.write(pid)\n",
    "                            fp.write(\"|\")\n",
    "                            fp.write(str(position))\n",
    "                            fp.write(\"\\n\")\n",
    "                            fp.write(motif)\n",
    "                            fp.write(\"\\n\")\n",
    "\n",
    "\n",
    "                        if len(seq[int(position)-half_window:int(position)+half_window+1]) == window_size:\n",
    "                            motif = seq[int(position)-40:int(position)+41]\n",
    "                            fp.write(\">\")\n",
    "                            fp.write(pid)\n",
    "                            fp.write(\"|\")\n",
    "                            fp.write(str(position))\n",
    "                            fp.write(\"\\n\")\n",
    "                            fp.write(motif)\n",
    "                            fp.write(\"\\n\")\n",
    "                            \n",
    "for i in range(len(Negative_Training_PID)):\n",
    "    pid = Negative_Training_PID[i]\n",
    "    position = Negative_Site_PID[i]\n",
    "    try:\n",
    "        open_file_extract_window(pid,position)\n",
    "    except:\n",
    "        pass"
   ]
  },
  {
   "cell_type": "code",
   "execution_count": null,
   "id": "d6cb1815",
   "metadata": {},
   "outputs": [],
   "source": []
  },
  {
   "cell_type": "code",
   "execution_count": null,
   "id": "4b8522e9",
   "metadata": {},
   "outputs": [],
   "source": []
  },
  {
   "cell_type": "code",
   "execution_count": null,
   "id": "81814bb0",
   "metadata": {},
   "outputs": [],
   "source": []
  },
  {
   "cell_type": "code",
   "execution_count": null,
   "id": "5eeec0b1",
   "metadata": {},
   "outputs": [],
   "source": []
  },
  {
   "cell_type": "code",
   "execution_count": null,
   "id": "7d1e8413",
   "metadata": {},
   "outputs": [],
   "source": []
  },
  {
   "cell_type": "code",
   "execution_count": null,
   "id": "2f9d6039",
   "metadata": {},
   "outputs": [],
   "source": []
  },
  {
   "cell_type": "code",
   "execution_count": null,
   "id": "33cdadc1",
   "metadata": {},
   "outputs": [],
   "source": []
  },
  {
   "cell_type": "code",
   "execution_count": null,
   "id": "f7742894",
   "metadata": {},
   "outputs": [],
   "source": []
  },
  {
   "cell_type": "code",
   "execution_count": 32,
   "id": "696f5a22",
   "metadata": {},
   "outputs": [],
   "source": [
    "import os \n",
    "os.chdir(\"/homes/t326h379/OGALNAC_TRAINING\")\n",
    "fp = open(\"OGalNAC_Training_Protein.txt\",\"w\")\n",
    "for value in Training_Protein:\n",
    "    Download_link = \"https://rest.uniprot.org/uniprotkb/\"+value+\".fasta\"\n",
    "    fp.write(Download_link+\"\\n\")    \n",
    "fp.close()"
   ]
  },
  {
   "cell_type": "code",
   "execution_count": null,
   "id": "4f545bb5",
   "metadata": {},
   "outputs": [],
   "source": []
  }
 ],
 "metadata": {
  "kernelspec": {
   "display_name": "Python 3.10.4-TensorFlow-2.11.0 [jupyter_python]",
   "language": "python",
   "name": "sys_python_3.10.4-tensorflow-2.11.0"
  },
  "language_info": {
   "codemirror_mode": {
    "name": "ipython",
    "version": 3
   },
   "file_extension": ".py",
   "mimetype": "text/x-python",
   "name": "python",
   "nbconvert_exporter": "python",
   "pygments_lexer": "ipython3",
   "version": "3.10.4"
  }
 },
 "nbformat": 4,
 "nbformat_minor": 5
}
