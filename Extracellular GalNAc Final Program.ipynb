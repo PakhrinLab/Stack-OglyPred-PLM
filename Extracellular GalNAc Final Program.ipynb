{
 "cells": [
  {
   "cell_type": "code",
   "execution_count": 19,
   "id": "63b26326",
   "metadata": {},
   "outputs": [],
   "source": [
    "import os\n",
    "import pandas as pd\n",
    "import numpy as np\n",
    "import random\n",
    "import tensorflow as tf\n",
    "from sklearn.metrics import confusion_matrix, matthews_corrcoef, accuracy_score, roc_auc_score, classification_report"
   ]
  },
  {
   "cell_type": "code",
   "execution_count": 13,
   "id": "ae7102d9",
   "metadata": {},
   "outputs": [],
   "source": [
    "def predict_stacked_model(model, inputX):\n",
    "    # prepare input data\n",
    "    X = inputX\n",
    "    # make prediction\n",
    "    return model.predict(X, verbose=0)"
   ]
  },
  {
   "cell_type": "markdown",
   "id": "7d03327b",
   "metadata": {},
   "source": [
    "# Ankh OGalNAc"
   ]
  },
  {
   "cell_type": "code",
   "execution_count": 5,
   "id": "5c0c09d3",
   "metadata": {},
   "outputs": [],
   "source": [
    "os.chdir(\"/homes/t326h379/OGalNAc/Ankh_154_Proteins\")\n",
    "\n",
    "df_positive = pd.read_csv(\"Again_Ankh_Feature_Extraction_667_Positive_OGalNAc.txt\",header=None)\n",
    "df_negative = pd.read_csv(\"Again_Ankh_Feature_Extraction_17817_Negative_OGalNAc.txt\",header = None)\n",
    "\n",
    "df_positive_positive = df_positive\n",
    "df_negative_negative = df_negative\n",
    "\n",
    "Header_name = [\"Position\",\"PID\",\"S_or_T\"]+[i for i in range(1,1537)]\n",
    "df_positive_positive.columns = Header_name\n",
    "df_negative_negative.columns = Header_name\n",
    "\n",
    "Training_Protein = []\n",
    "with open(\"One_hundred_Thirty_Seven_Training_Proteins_OGalNAc.txt\") as Subash:\n",
    "    for line in Subash:\n",
    "        Training_Protein.append(line.strip(\"\\n\"))\n",
    "\n",
    "df_positive = df_positive_positive[df_positive_positive['PID'].isin(Training_Protein)]\n",
    "df_negative = df_negative_negative[df_negative_negative['PID'].isin(Training_Protein)]\n",
    "\n",
    "df_positive_only_feature_vector = df_positive.drop([\"Position\",\"PID\",\"S_or_T\"],axis=1)\n",
    "df_positive_only_fv = np.array(df_positive_only_feature_vector)\n",
    "\n",
    "df_negative_only_feature_vector = df_negative.drop([\"Position\",\"PID\",\"S_or_T\"],axis=1)\n",
    "df_negative_only_fv = np.array(df_negative_only_feature_vector)\n",
    "\n",
    "X_train_full_Ankh = np.vstack((df_positive_only_fv,df_negative_only_fv))\n",
    "\n",
    "y_train_full_Ankh = [1]*df_positive_only_fv.shape[0]+[0]*df_negative_only_fv.shape[0]\n",
    "\n",
    "y_train_full_Ankh = np.array(y_train_full_Ankh)"
   ]
  },
  {
   "cell_type": "code",
   "execution_count": 6,
   "id": "35ccc1d1",
   "metadata": {},
   "outputs": [
    {
     "data": {
      "text/plain": [
       "((16413, 1536), (16413,))"
      ]
     },
     "execution_count": 6,
     "metadata": {},
     "output_type": "execute_result"
    }
   ],
   "source": [
    "X_train_full_Ankh.shape, y_train_full_Ankh.shape"
   ]
  },
  {
   "cell_type": "markdown",
   "id": "b7096fcc",
   "metadata": {},
   "source": [
    "# ProtT5 OGalNAc"
   ]
  },
  {
   "cell_type": "code",
   "execution_count": 7,
   "id": "a7ebdcbc",
   "metadata": {},
   "outputs": [],
   "source": [
    "os.chdir(\"/home/t326h379/OGalNAc\")\n",
    "\n",
    "df_positive_positive = pd.read_csv('Positive_OGalNAc_ProtT5_Positive_Features_vectors_1837_Net_O_Glyc_4.txt',header=None)              \n",
    "df_negative_negative = pd.read_csv('Negative_OGalNAc_ProtT5_Negative_Features_vectors_59414_Net_O_Glyc_4.txt',header=None)  \n",
    "\n",
    "Header_name = [\"Position\",\"PID\",\"S_or_T\"]+[i for i in range(1,1025)]\n",
    "df_positive_positive.columns = Header_name\n",
    "df_negative_negative.columns = Header_name\n",
    "\n",
    "df_positive = df_positive_positive[df_positive_positive['PID'].isin(Training_Protein)]\n",
    "df_negative = df_negative_negative[df_negative_negative['PID'].isin(Training_Protein)]\n",
    "\n",
    "df_positive_only_feature_vector = df_positive.drop([\"Position\",\"PID\",\"S_or_T\"],axis=1)\n",
    "df_positive_only_fv = np.array(df_positive_only_feature_vector)\n",
    "\n",
    "df_negative_only_feature_vector = df_negative.drop([\"Position\",\"PID\",\"S_or_T\"],axis=1)\n",
    "df_negative_only_fv = np.array(df_negative_only_feature_vector)\n",
    "\n",
    "X_train_full_ProtT5 = np.vstack((df_positive_only_fv,df_negative_only_fv))\n",
    "\n",
    "y_train_full_ProtT5 = [1]*df_positive_only_fv.shape[0]+[0]*df_negative_only_fv.shape[0]\n",
    "\n",
    "y_train_full_ProtT5 = np.array(y_train_full_ProtT5)"
   ]
  },
  {
   "cell_type": "code",
   "execution_count": 8,
   "id": "3eae7b5a",
   "metadata": {},
   "outputs": [
    {
     "data": {
      "text/plain": [
       "((16413, 1024), (16413,))"
      ]
     },
     "execution_count": 8,
     "metadata": {},
     "output_type": "execute_result"
    }
   ],
   "source": [
    "X_train_full_ProtT5.shape, y_train_full_ProtT5.shape"
   ]
  },
  {
   "cell_type": "markdown",
   "id": "ff709021",
   "metadata": {},
   "source": [
    "# Independent Test Dataset"
   ]
  },
  {
   "cell_type": "markdown",
   "id": "13aa24e2",
   "metadata": {},
   "source": [
    "# ProtT5 Independent"
   ]
  },
  {
   "cell_type": "code",
   "execution_count": 9,
   "id": "e924fd5a",
   "metadata": {},
   "outputs": [
    {
     "name": "stdout",
     "output_type": "stream",
     "text": [
      "(2071, 1024) (2071,)\n"
     ]
    }
   ],
   "source": [
    "import numpy as np\n",
    "os.chdir(\"/home/t326h379/OGalNAc\")\n",
    "\n",
    "df_positive_positive = pd.read_csv('Positive_OGalNAc_ProtT5_Positive_Features_vectors_1837_Net_O_Glyc_4.txt',header=None)              \n",
    "df_negative_negative = pd.read_csv('Negative_OGalNAc_ProtT5_Negative_Features_vectors_59414_Net_O_Glyc_4.txt',header=None)  \n",
    "\n",
    "\n",
    "list_loaded_set = []\n",
    "with open(\"Seventenn_INdependent_Proteins_OGalNAc.txt\") as Iphone:\n",
    "    for line in Iphone:\n",
    "        list_loaded_set.append(line.strip(\"\\n\"))\n",
    "\n",
    "\n",
    "Remaining_Testing_Protein = list_loaded_set\n",
    "\n",
    "Header_name = [\"Position\",\"PID\",\"S_or_T\"]+[i for i in range(1,1025)]\n",
    "df_positive_positive.columns = Header_name\n",
    "df_negative_negative.columns = Header_name\n",
    "\n",
    "# Testing Protein and Site Selection\n",
    "\n",
    "df_positive_testing = df_positive_positive[df_positive_positive['PID'].isin(Remaining_Testing_Protein)]\n",
    "df_negative_testing = df_negative_negative[df_negative_negative['PID'].isin(Remaining_Testing_Protein)]\n",
    "\n",
    "df_negative_only_test_feature_vector = df_negative_testing.drop([\"Position\",\"PID\",\"S_or_T\"],axis=1)\n",
    "df_negative_only_fv_test = np.array(df_negative_only_test_feature_vector)\n",
    "\n",
    "df_positive_only_test_feature_vector = df_positive_testing.drop([\"Position\",\"PID\",\"S_or_T\"],axis=1)\n",
    "df_positive_only_fv_test = np.array(df_positive_only_test_feature_vector)\n",
    "\n",
    "X_test_full = np.vstack((df_positive_only_fv_test,df_negative_only_fv_test))\n",
    "y_test_full = np.array([1]*df_positive_only_fv_test.shape[0]+[0]*df_negative_only_fv_test.shape[0])\n",
    "\n",
    "print(X_test_full.shape, y_test_full.shape)\n",
    "\n",
    "X_independent_ProtT5 = X_test_full\n",
    "\n",
    "y_independent_ProtT5 = y_test_full"
   ]
  },
  {
   "cell_type": "code",
   "execution_count": 10,
   "id": "b68970bc",
   "metadata": {},
   "outputs": [
    {
     "name": "stdout",
     "output_type": "stream",
     "text": [
      "(2071, 1024) (2071,)\n"
     ]
    }
   ],
   "source": [
    "print(X_independent_ProtT5.shape, y_independent_ProtT5.shape)"
   ]
  },
  {
   "cell_type": "markdown",
   "id": "82170872",
   "metadata": {},
   "source": [
    "# Ankh Independent"
   ]
  },
  {
   "cell_type": "code",
   "execution_count": 11,
   "id": "c36c34c0",
   "metadata": {},
   "outputs": [],
   "source": [
    "os.chdir(\"/homes/t326h379/OGalNAc/Ankh_154_Proteins\")\n",
    "\n",
    "df_positive = pd.read_csv(\"Again_Ankh_Feature_Extraction_667_Positive_OGalNAc.txt\",header=None)\n",
    "df_negative = pd.read_csv(\"Again_Ankh_Feature_Extraction_17817_Negative_OGalNAc.txt\",header = None)\n",
    "\n",
    "df_positive_positive = df_positive\n",
    "df_negative_negative = df_negative\n",
    "\n",
    "Header_name = [\"Position\",\"PID\",\"S_or_T\"]+[i for i in range(1,1537)]\n",
    "df_positive_positive.columns = Header_name\n",
    "df_negative_negative.columns = Header_name\n",
    "\n",
    "Training_Protein = []\n",
    "with open(\"Seventenn_INdependent_Proteins_OGalNAc.txt\") as Subash:\n",
    "    for line in Subash:\n",
    "        Training_Protein.append(line.strip(\"\\n\"))\n",
    "\n",
    "df_positive = df_positive_positive[df_positive_positive['PID'].isin(Training_Protein)]\n",
    "df_negative = df_negative_negative[df_negative_negative['PID'].isin(Training_Protein)]\n",
    "\n",
    "df_positive_only_feature_vector = df_positive.drop([\"Position\",\"PID\",\"S_or_T\"],axis=1)\n",
    "df_positive_only_fv = np.array(df_positive_only_feature_vector)\n",
    "\n",
    "df_negative_only_feature_vector = df_negative.drop([\"Position\",\"PID\",\"S_or_T\"],axis=1)\n",
    "df_negative_only_fv = np.array(df_negative_only_feature_vector)\n",
    "\n",
    "X_test_full = np.vstack((df_positive_only_fv,df_negative_only_fv))\n",
    "\n",
    "y_test_full = [1]*df_positive_only_fv.shape[0]+[0]*df_negative_only_fv.shape[0]\n",
    "\n",
    "y_test_full = np.array(y_test_full)\n",
    "\n",
    "X_independent_Ankh = X_test_full\n",
    "\n",
    "y_independent_Ankh = y_test_full"
   ]
  },
  {
   "cell_type": "code",
   "execution_count": 12,
   "id": "757b6649",
   "metadata": {},
   "outputs": [
    {
     "name": "stdout",
     "output_type": "stream",
     "text": [
      "(2071, 1536) (2071,)\n"
     ]
    }
   ],
   "source": [
    "print(X_independent_Ankh.shape, y_independent_Ankh.shape)"
   ]
  },
  {
   "cell_type": "markdown",
   "id": "79060575",
   "metadata": {},
   "source": [
    "# Use the Ankh and ProtT5 features for prediction "
   ]
  },
  {
   "cell_type": "code",
   "execution_count": 20,
   "id": "da809187",
   "metadata": {},
   "outputs": [
    {
     "name": "stdout",
     "output_type": "stream",
     "text": [
      "Matthews Correlation :  0.46430233776591257\n",
      "Confusion Matrix : \n",
      " [[1781  205]\n",
      " [   8   77]]\n",
      "Accuracy on test set:    0.8971511347175277\n",
      "Sensitivity:    0.9058823529411765 \t Specificity:    0.8967774420946626\n",
      "              precision    recall  f1-score   support\n",
      "\n",
      "           0       1.00      0.90      0.94      1986\n",
      "           1       0.27      0.91      0.42        85\n",
      "\n",
      "    accuracy                           0.90      2071\n",
      "   macro avg       0.63      0.90      0.68      2071\n",
      "weighted avg       0.97      0.90      0.92      2071\n",
      "\n",
      "Area Under Curve:    0.9013298975179195\n"
     ]
    }
   ],
   "source": [
    "stacked_model = tf.keras.models.load_model(\"Extracellular_OGalNAc_Stacked_226294Model.h5\")\n",
    "\n",
    "inputX = [X_independent_Ankh,X_independent_ProtT5]\n",
    "Y_pred = predict_stacked_model(stacked_model, inputX)\n",
    "\n",
    "Y_pred = (Y_pred > 0.5)\n",
    "y_pred = [np.argmax(y, axis=None, out=None) for y in Y_pred]\n",
    "y_pred = np.array(y_pred)\n",
    "y_independent = y_independent_Ankh\n",
    "confusion = confusion_matrix(y_independent,y_pred)\n",
    "\n",
    "print(\"Matthews Correlation : \",matthews_corrcoef(y_independent, y_pred))\n",
    "print(\"Confusion Matrix : \\n\",confusion_matrix(y_independent, y_pred))\n",
    "print(\"Accuracy on test set:   \",accuracy_score(y_independent, y_pred))\n",
    "\n",
    "cm = confusion_matrix(y_independent, y_pred)\n",
    "\n",
    "TP = cm[1][1]\n",
    "TN = cm[0][0]\n",
    "FP = cm[0][1]\n",
    "FN = cm[1][0]\n",
    "\n",
    "mcc = matthews_corrcoef(y_independent, y_pred)\n",
    "\n",
    "Sensitivity = TP/(TP+FN)\n",
    "\n",
    "Specificity = TN/(TN+FP)\n",
    "\n",
    "print(\"Sensitivity:   \",Sensitivity,\"\\t\",\"Specificity:   \",Specificity)\n",
    "\n",
    "print(classification_report(y_independent, y_pred))\n",
    "\n",
    "ANN_model_Prob_auc = roc_auc_score(y_independent, y_pred)\n",
    "\n",
    "print(\"Area Under Curve:   \",ANN_model_Prob_auc)"
   ]
  },
  {
   "cell_type": "markdown",
   "id": "07ea3c73",
   "metadata": {},
   "source": [
    "# Thank You"
   ]
  }
 ],
 "metadata": {
  "kernelspec": {
   "display_name": "Python 3.10.4-TensorFlow-2.11.0 [jupyter_python]",
   "language": "python",
   "name": "sys_python_3.10.4-tensorflow-2.11.0"
  },
  "language_info": {
   "codemirror_mode": {
    "name": "ipython",
    "version": 3
   },
   "file_extension": ".py",
   "mimetype": "text/x-python",
   "name": "python",
   "nbconvert_exporter": "python",
   "pygments_lexer": "ipython3",
   "version": "3.10.4"
  }
 },
 "nbformat": 4,
 "nbformat_minor": 5
}
